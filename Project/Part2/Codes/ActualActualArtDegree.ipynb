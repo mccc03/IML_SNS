{
 "cells": [
  {
   "cell_type": "markdown",
   "metadata": {},
   "source": [
    "# Libraries"
   ]
  },
  {
   "cell_type": "code",
   "execution_count": null,
   "metadata": {},
   "outputs": [],
   "source": [
    "# IO\n",
    "import os\n",
    "import pathlib\n",
    "from pathlib import Path\n",
    "from glob import glob\n",
    "import cv2\n",
    "from typing import Any, Callable, cast, Dict, List, Optional, Tuple, Union\n",
    "from PIL import Image\n",
    "import json\n",
    "\n",
    "# Utilities\n",
    "import numpy as np \n",
    "import pandas as pd\n",
    "\n",
    "from sklearn.model_selection import train_test_split, StratifiedKFold, RepeatedStratifiedKFold, GridSearchCV\n",
    "from sklearn import preprocessing\n",
    "from sklearn.base import BaseEstimator\n",
    "\n",
    "import random\n",
    "import math\n",
    "from collections import defaultdict\n",
    "\n",
    "from functools import partial\n",
    "\n",
    "# Pytorch\n",
    "import torch\n",
    "from torch import nn\n",
    "\n",
    "# Torchvision\n",
    "import torchvision\n",
    "from torchvision.datasets.vision import VisionDataset\n",
    "from torchvision import datasets\n",
    "from torchvision.datasets import ImageFolder, DatasetFolder\n",
    "from torchvision.transforms import ToTensor\n",
    "from torchvision import transforms\n",
    "from torchvision.io import read_image\n",
    "## torchvision utilities\n",
    "from torch.utils.data import DataLoader, TensorDataset, Subset\n",
    "from torch.utils.data import Dataset\n",
    "from torchvision.datasets.folder import IMG_EXTENSIONS, default_loader\n",
    "from torch.utils.tensorboard import SummaryWriter\n",
    "\n",
    "# Optuna\n",
    "import optuna\n",
    "\n",
    "# Visualization\n",
    "#import matplotlib\n",
    "import matplotlib.pyplot as plt\n",
    "import seaborn as sns\n",
    "from matplotlib.patches import Patch\n",
    "import matplotlib.colors as mcolors\n",
    "\n",
    "#matplotlib.use(backend=\"TkAgg\")\n",
    "# Progress bar\n",
    "import sys\n",
    "from tqdm import tqdm"
   ]
  },
  {
   "cell_type": "code",
   "execution_count": 2,
   "metadata": {},
   "outputs": [
    {
     "name": "stdout",
     "output_type": "stream",
     "text": [
      "PyTorch version: 2.4.1.post102\n",
      "torchvision version: 0.19.1a0+5ed21bd\n"
     ]
    }
   ],
   "source": [
    "# Check versions\n",
    "# Note: your PyTorch version shouldn't be lower than 1.10.0 and torchvision version shouldn't be lower than 0.11\n",
    "print(f\"PyTorch version: {torch.__version__}\\ntorchvision version: {torchvision.__version__}\")"
   ]
  },
  {
   "cell_type": "markdown",
   "metadata": {},
   "source": [
    "# Define global variables"
   ]
  },
  {
   "cell_type": "markdown",
   "metadata": {},
   "source": [
    "Smallest image dimension, all bigger image will be cropped to this value"
   ]
  },
  {
   "cell_type": "code",
   "execution_count": 3,
   "metadata": {},
   "outputs": [],
   "source": [
    "DIM = 64"
   ]
  },
  {
   "cell_type": "markdown",
   "metadata": {},
   "source": [
    "IO folders, I tried to make this os-agnostic"
   ]
  },
  {
   "cell_type": "code",
   "execution_count": 4,
   "metadata": {},
   "outputs": [],
   "source": [
    "CodeDirectory = Path(os.path.abspath(''))\n",
    "DATASET_FOLDER = os.path.join(str(CodeDirectory.parent.absolute()), \"_data\",\"\")\n",
    "DATASET_PATH = Path(DATASET_FOLDER)\n",
    "BROKENDATA_FOLDER = os.path.join(str(CodeDirectory.parent.absolute()), \"_brokenData\",\"\")\n",
    "LOGGING_FOLDER = os.path.join(str(CodeDirectory.parent.absolute()), \"_output_data\",\"\")"
   ]
  },
  {
   "cell_type": "markdown",
   "metadata": {},
   "source": [
    "# Functions and Classes definitions"
   ]
  },
  {
   "cell_type": "markdown",
   "metadata": {},
   "source": [
    "## Data Preparation"
   ]
  },
  {
   "cell_type": "markdown",
   "metadata": {},
   "source": [
    "Define set of image transformations, boolean switch for color images"
   ]
  },
  {
   "cell_type": "code",
   "execution_count": 5,
   "metadata": {},
   "outputs": [],
   "source": [
    "def TransformationComposer(dimension=256, color=True):\n",
    "    if color:\n",
    "        return transforms.Compose([\n",
    "            #transforms.ToPILImage(),\n",
    "            transforms.ToTensor(),\n",
    "            transforms.Resize(dimension),\n",
    "            transforms.RandomCrop(dimension*(7/8)),\n",
    "            transforms.RandomHorizontalFlip(),\n",
    "            transforms.Normalize((0.5, 0.5, 0.5), (0.5, 0.5, 0.5))\n",
    "        ])\n",
    "    else:\n",
    "        return transforms.Compose([\n",
    "            #transforms.ToPILImage(),\n",
    "            transforms.ToTensor(),\n",
    "            transforms.Resize(dimension),\n",
    "            transforms.RandomCrop(dimension*(7/8)),\n",
    "            transforms.RandomHorizontalFlip(),\n",
    "            transforms.Normalize((0.5, 0.5, 0.5), (0.5, 0.5, 0.5)),\n",
    "            transforms.Grayscale(1)\n",
    "        ])"
   ]
  },
  {
   "cell_type": "markdown",
   "metadata": {},
   "source": [
    "This function scans the dataset folder, discarding images that are smaller than a target dimension Dim or just broken (NULL type)"
   ]
  },
  {
   "cell_type": "code",
   "execution_count": 6,
   "metadata": {},
   "outputs": [],
   "source": [
    "def ImageFolderScan(ImageDir,Dim):\n",
    "    subfolder_list = glob(os.path.join(ImageDir,\"*\",\"*\",\"\"), recursive = True)\n",
    "    for i in range(len(subfolder_list)):\n",
    "        for filename in os.listdir(subfolder_list[i]):\n",
    "            image_path = str(subfolder_list[i]+filename)\n",
    "            image = cv2.imread(image_path)\n",
    "            # If pic is broken\n",
    "            if image is None:\n",
    "                os.rename(image_path, BROKENDATA_FOLDER+os.path.basename(os.path.normpath(subfolder_list[i]))+filename)\n",
    "            else:\n",
    "                # If pic is too small, threshold 256x256\n",
    "                height, width, channels = image.shape\n",
    "                if min(height,width)<Dim:\n",
    "                    os.rename(image_path, BROKENDATA_FOLDER+os.path.basename(os.path.normpath(subfolder_list[i]))+filename)"
   ]
  },
  {
   "cell_type": "markdown",
   "metadata": {},
   "source": [
    "Create a customized ImageFolder class so that we can define classes from subsubdirectories (more specific classifier)\n",
    "\n",
    "Given how ImageFolder handles getting the datapoints, the elements in class_to_idx should resemble the relative path from the root directory"
   ]
  },
  {
   "cell_type": "code",
   "execution_count": 7,
   "metadata": {},
   "outputs": [],
   "source": [
    "class CustomImageFolder(ImageFolder):\n",
    "    def __init__(self, root, transform=None):\n",
    "        # Initialize the parent class (ImageFolder) correctly\n",
    "        super().__init__(root, transform=transform)\n",
    "\n",
    "    def find_classes(self, directory):\n",
    "            \"\"\"Finds the classes and maps them to indices.\"\"\"\n",
    "            subfolders = [d for d in os.listdir(directory) if os.path.isdir(os.path.join(directory, d))]\n",
    "            \n",
    "            classes = []\n",
    "            class_to_idx = {}\n",
    "            \n",
    "            # Iterate over each subfolder\n",
    "            for subfolder in subfolders:\n",
    "                subfolder_path = os.path.join(directory, subfolder)\n",
    "                # Get sub-subfolders\n",
    "                for class_name in os.listdir(subfolder_path):\n",
    "                    class_path = os.path.join(subfolder_path, class_name)\n",
    "                    if os.path.isdir(class_path):\n",
    "                        classes.append(os.path.join(subfolder, class_name))  # Add the class name\n",
    "                        # Create a dictionary for classes and class indices\n",
    "                        class_to_idx[os.path.join(subfolder, class_name)] = len(class_to_idx)\n",
    "\n",
    "            return classes, class_to_idx"
   ]
  },
  {
   "cell_type": "code",
   "execution_count": 8,
   "metadata": {},
   "outputs": [],
   "source": [
    "class CustomImageDataset(Dataset):\n",
    "    def __init__(self, data, indices, transform=None):\n",
    "        self.data = data  # Assuming `data` is similar to ImageFolder with `samples` and `targets`\n",
    "        self.indices = indices  # Indices to select specific data points\n",
    "        self.transform = transform\n",
    "\n",
    "    def __len__(self):\n",
    "        return len(self.indices)\n",
    "\n",
    "    def __getitem__(self, idx):\n",
    "        # Retrieve the sample (img_path, label) using the provided indices\n",
    "        img_path, label = self.data.samples[self.indices[idx]]\n",
    "        \n",
    "        # Open the image and apply any transformations\n",
    "        image = Image.open(img_path).convert(\"RGB\")\n",
    "\n",
    "        if self.transform:\n",
    "            image = self.transform(image)\n",
    "\n",
    "        return image, label\n",
    "\n",
    "    @property\n",
    "    def samples(self):\n",
    "        # Return the subset of samples based on the provided indices\n",
    "        return [(self.data.samples[i][0], self.data.samples[i][1]) for i in self.indices]\n",
    "\n",
    "    @property\n",
    "    def images(self):\n",
    "        # Return the subset of samples based on the provided indices\n",
    "        return [self.data.samples[i][0] for i in self.indices]\n",
    "\n",
    "    @property\n",
    "    def targets(self):\n",
    "        # Return the labels for the subset of samples\n",
    "        return [self.data.samples[i][1] for i in self.indices]"
   ]
  },
  {
   "cell_type": "markdown",
   "metadata": {},
   "source": [
    "Stratified sampling"
   ]
  },
  {
   "cell_type": "code",
   "execution_count": 9,
   "metadata": {},
   "outputs": [],
   "source": [
    "def StratifiedSplit(data, test_size_fraction=0.3):\n",
    "    targets = np.array(data.targets)\n",
    "    train_idx, test_idx = train_test_split(\n",
    "        np.arange(len(data)),\n",
    "        test_size=test_size_fraction,\n",
    "        shuffle=True,\n",
    "        stratify=targets\n",
    "    )\n",
    "\n",
    "    # Return indices only\n",
    "    return train_idx, test_idx\n"
   ]
  },
  {
   "cell_type": "markdown",
   "metadata": {},
   "source": [
    "## Visualizations"
   ]
  },
  {
   "cell_type": "markdown",
   "metadata": {},
   "source": [
    "Visualize Stratified Kfold"
   ]
  },
  {
   "cell_type": "code",
   "execution_count": 10,
   "metadata": {},
   "outputs": [],
   "source": [
    "def plot_cv_indices(cv, X, y, ax, n_splits, lw=10, train_title='Training set', test_title='Testing set'):\n",
    "    \"\"\"Create a sample plot for indices of a cross-validation object.\"\"\"\n",
    "    # Sort X and y according to y to keep the classes in order\n",
    "    sorted_indices = np.argsort(y)\n",
    "    X_sorted = X[sorted_indices]\n",
    "    y_sorted = y[sorted_indices]\n",
    "\n",
    "    # Define colormaps for CV splits and data classes\n",
    "    cmap_cv = plt.cm.coolwarm  # Used for training/testing splits\n",
    "    cmap_data = plt.cm.tab10  # Used for data classes\n",
    "\n",
    "    # Generate the training/testing visualizations for each CV split\n",
    "    for ii, (tr, tt) in enumerate(cv.split(X=X_sorted, y=y_sorted)):\n",
    "        # Fill in indices with the training/test labels\n",
    "        indices = np.array([np.nan] * len(X_sorted))\n",
    "        indices[tt] = 1\n",
    "        indices[tr] = 0\n",
    "\n",
    "        # Visualize the results\n",
    "        ax.scatter(\n",
    "            range(len(indices)),\n",
    "            [ii + 0.5] * len(indices),\n",
    "            c=indices,\n",
    "            marker=\"_\",\n",
    "            lw=lw,\n",
    "            cmap=cmap_cv,\n",
    "            vmin=-0.2,\n",
    "            vmax=1.2,\n",
    "        )\n",
    "\n",
    "    # Plot the data classes at the end\n",
    "    # Use class labels as colors with a unique color per class\n",
    "    unique_classes = np.unique(y_sorted)\n",
    "    norm = mcolors.BoundaryNorm(boundaries=np.arange(len(unique_classes) + 1) - 0.5, ncolors=len(unique_classes))\n",
    "    scatter = ax.scatter(\n",
    "        range(len(X_sorted)),\n",
    "        [ii + 1.5] * len(X_sorted),\n",
    "        c=y_sorted,\n",
    "        marker=\"_\",\n",
    "        lw=lw,\n",
    "        cmap=cmap_data,\n",
    "        norm=norm\n",
    "    )\n",
    "\n",
    "    # Formatting\n",
    "    yticklabels = list(range(n_splits)) + [\"class\"]\n",
    "    ax.set(\n",
    "        yticks=np.arange(n_splits + 1) + 0.5,\n",
    "        yticklabels=yticklabels,\n",
    "        xlabel=\"Sample index\",\n",
    "        ylabel=\"CV iteration\",\n",
    "        ylim=[n_splits + 2.2, -0.2],\n",
    "        xlim=[0, len(X_sorted)],\n",
    "    )\n",
    "    ax.set_title(\"{}\".format(type(cv).__name__), fontsize=15)\n",
    "\n",
    "    # Create combined legend\n",
    "    # Legend for CV splits (Training and Testing)\n",
    "    test_title_str = test_title\n",
    "    train_title_str = train_title\n",
    "\n",
    "    handles_cv = [Patch(color=cmap_cv(0.8)), Patch(color=cmap_cv(0.02))]\n",
    "    labels_cv = [test_title, train_title]\n",
    "\n",
    "    # Legend for class labels\n",
    "    legend_labels = [f\"Class {cls}\" for cls in unique_classes]\n",
    "    handles_classes = scatter.legend_elements()[0]  # Extract handles for the class labels\n",
    "\n",
    "    # Combine handles and labels for both legends\n",
    "    handles = handles_cv + handles_classes\n",
    "    labels = labels_cv + legend_labels\n",
    "\n",
    "    # Add the combined legend\n",
    "    ax.legend(handles=handles, labels=labels, loc=\"upper left\", bbox_to_anchor=(1.05, 1))\n",
    "\n",
    "    return ax"
   ]
  },
  {
   "cell_type": "code",
   "execution_count": 11,
   "metadata": {},
   "outputs": [],
   "source": [
    "def StratifiedKFoldVisual(dataset, cv, mask_len = 3, train_title='Training set', test_title='Testing set'):\n",
    "    X = [sample[0] for sample in dataset.samples]  # Paths or images\n",
    "    y = dataset.targets  # Labels (class indices)\n",
    "\n",
    "    unique_classes = np.unique(y)[:mask_len]\n",
    "    mask = np.isin(y, unique_classes)\n",
    "\n",
    "    X_limited = np.array(X)[mask]\n",
    "    y_limited = np.array(y)[mask]\n",
    "\n",
    "    cmap_data = plt.cm.Paired\n",
    "    cmap_cv = plt.cm.coolwarm\n",
    "\n",
    "    fig, ax = plt.subplots()\n",
    "    plot_cv_indices(cv, X_limited, y_limited, ax, cv.get_n_splits(), train_title=train_title, test_title=test_title)"
   ]
  },
  {
   "cell_type": "markdown",
   "metadata": {},
   "source": [
    "Plot losses and accuracies"
   ]
  },
  {
   "cell_type": "code",
   "execution_count": 12,
   "metadata": {},
   "outputs": [],
   "source": [
    "def plot_metrics(log_file_path):\n",
    "    # Check if the log file exists and is not empty\n",
    "    if not os.path.exists(log_file_path) or os.stat(log_file_path).st_size == 0:\n",
    "        print(\"The log file does not exist or is empty. Cannot plot metrics.\")\n",
    "        return\n",
    "    \n",
    "    # Initialize lists to store data\n",
    "    epochs = []\n",
    "    training_loss = []\n",
    "    training_acc = []\n",
    "    validation_loss = []\n",
    "    validation_acc = []\n",
    "\n",
    "    # Read the log file\n",
    "    with open(log_file_path, \"r\") as log_file:\n",
    "        # Skip the header\n",
    "        next(log_file)\n",
    "        # Parse the content\n",
    "        for line in log_file:\n",
    "            values = line.strip().split('\\t')\n",
    "            epochs.append(int(values[0]))\n",
    "            training_loss.append(float(values[1]))\n",
    "            training_acc.append(float(values[2]))\n",
    "            validation_loss.append(float(values[3]))\n",
    "            validation_acc.append(float(values[4]))\n",
    "\n",
    "    # Plot the metrics\n",
    "    plt.figure(figsize=(12, 6))\n",
    "\n",
    "    # Plot Training and Validation Loss\n",
    "    plt.subplot(1, 2, 1)\n",
    "    plt.plot(epochs, training_loss, label='Training Loss', marker='o')\n",
    "    plt.plot(epochs, validation_loss, label='Validation Loss', marker='o')\n",
    "    plt.xlabel('Epoch')\n",
    "    plt.ylabel('Loss')\n",
    "    plt.title('Training and Validation Loss')\n",
    "    plt.legend()\n",
    "    plt.grid()\n",
    "\n",
    "    # Plot Training and Validation Accuracy\n",
    "    plt.subplot(1, 2, 2)\n",
    "    plt.plot(epochs, training_acc, label='Training Accuracy', marker='o')\n",
    "    plt.plot(epochs, validation_acc, label='Validation Accuracy', marker='o')\n",
    "    plt.xlabel('Epoch')\n",
    "    plt.ylabel('Accuracy')\n",
    "    plt.title('Training and Validation Accuracy')\n",
    "    plt.legend()\n",
    "    plt.grid()\n",
    "\n",
    "    # Show the plots\n",
    "    plt.tight_layout()\n",
    "    plt.show()"
   ]
  },
  {
   "cell_type": "markdown",
   "metadata": {},
   "source": [
    "## Training"
   ]
  },
  {
   "cell_type": "markdown",
   "metadata": {},
   "source": [
    "Basic training loop (one epoch)"
   ]
  },
  {
   "cell_type": "code",
   "execution_count": null,
   "metadata": {},
   "outputs": [],
   "source": [
    "def training_epoch(model, optimizer, loss_crit, train_loader, device):\n",
    "    avg_train_loss = 0\n",
    "    correct_train = 0\n",
    "    total_train = 0\n",
    "    for batch_x, batch_y in train_loader:\n",
    "        print('loading batches')\n",
    "        batch_x, batch_y = batch_x.to(device), batch_y.to(device)  # Move data to device\n",
    "        optimizer.zero_grad()\n",
    "        outputs = model(batch_x)\n",
    "        loss = loss_crit(outputs, batch_y)\n",
    "        loss.backward()\n",
    "        optimizer.step()\n",
    "\n",
    "        # Accumulate training loss and accuracy\n",
    "        avg_train_loss += loss.item()\n",
    "        _, predicted = torch.max(outputs, 1)\n",
    "        correct_train += (predicted == batch_y).sum().item()\n",
    "        total_train += batch_y.size(0)\n",
    "    \n",
    "    # Average training loss and accuracy over batches\n",
    "    avg_train_loss /= len(train_loader)\n",
    "    avg_train_accuracy = correct_train / total_train\n",
    "\n",
    "    return avg_train_loss, avg_train_accuracy"
   ]
  },
  {
   "cell_type": "markdown",
   "metadata": {},
   "source": [
    "Basic validation loop, returning validation loss and accuracy averaged on batches"
   ]
  },
  {
   "cell_type": "code",
   "execution_count": 14,
   "metadata": {},
   "outputs": [],
   "source": [
    "def validation_epoch(model, criterion, val_loader, device):\n",
    "    avg_val_loss = 0\n",
    "    correct_val = 0\n",
    "    total_val = 0\n",
    "    with torch.no_grad():\n",
    "        for batch_x, batch_y in val_loader:\n",
    "            batch_x, batch_y = batch_x.to(device), batch_y.to(device)  # Move data to device\n",
    "            outputs = model(batch_x)\n",
    "            loss = criterion(outputs, batch_y)\n",
    "\n",
    "            # Accumulate validation loss and accuracy\n",
    "            avg_val_loss += loss.item()\n",
    "            _, predicted = torch.max(outputs, 1)\n",
    "            correct_val += (predicted == batch_y).sum().item()\n",
    "            total_val += batch_y.size(0)\n",
    "    # Average validation loss for the fold\n",
    "    avg_val_loss /= len(val_loader)\n",
    "    avg_val_accuracy = correct_val / total_val\n",
    "    \n",
    "    return avg_val_loss, avg_val_accuracy"
   ]
  },
  {
   "cell_type": "markdown",
   "metadata": {},
   "source": [
    "Early stopper class"
   ]
  },
  {
   "cell_type": "code",
   "execution_count": 15,
   "metadata": {},
   "outputs": [],
   "source": [
    "class EarlyStopper:\n",
    "    def __init__(self, patience=1, min_delta=0, compare_steps=5):\n",
    "        self.patience = patience\n",
    "        self.min_delta = min_delta\n",
    "        self.counter = 0\n",
    "        self.min_validation_loss = float('inf')\n",
    "        self.compare_steps = compare_steps\n",
    "        self.loss_history = []\n",
    "\n",
    "    def early_stop(self, validation_loss):\n",
    "        self.loss_history.append(validation_loss)\n",
    "\n",
    "        # Update best validation loss\n",
    "        if validation_loss < self.min_validation_loss:\n",
    "            self.min_validation_loss = validation_loss\n",
    "            self.counter = 0\n",
    "        elif validation_loss > (self.min_validation_loss + self.min_delta):\n",
    "            self.counter += 1\n",
    "            if self.counter >= self.patience:\n",
    "                self.reset()  # Reset state before stopping\n",
    "                return True\n",
    "\n",
    "        # Compare current loss with `compare_steps` earlier\n",
    "        if len(self.loss_history) > self.compare_steps:\n",
    "            if validation_loss >= (self.loss_history[-(self.compare_steps + 1)] - self.min_delta):\n",
    "                self.reset()  # Reset state before stopping\n",
    "                return True\n",
    "\n",
    "        # Maintain history size\n",
    "        if len(self.loss_history) > self.compare_steps + 1:\n",
    "            self.loss_history.pop(0)\n",
    "\n",
    "        return False\n",
    "\n",
    "    def reset(self):\n",
    "        self.counter = 0\n",
    "        self.min_validation_loss = float('inf')\n",
    "        self.loss_history = []"
   ]
  },
  {
   "cell_type": "markdown",
   "metadata": {},
   "source": [
    "Final training loop"
   ]
  },
  {
   "cell_type": "code",
   "execution_count": null,
   "metadata": {},
   "outputs": [],
   "source": [
    "def train_loop(dataset, model_class, hyperparams, criterion, device, early_stopper, out_str, max_epochs=100):\n",
    "    # Get hyperparameters from best study\n",
    "    batch_size = hyperparams.get('batch_size', 32)  # Default to 32 if not provided\n",
    "    learning_rate = hyperparams.get('lr', 0.001)  # Default to 0.001 if not provided\n",
    "    optimizer_name = hyperparams.get('optimizer_name', 'Adam')  # Default to Adam if not provided\n",
    "    wd = hyperparams.get('weight_decay', 0.001) # Default to 0.001 if not provided\n",
    "    hidden_channels = hyperparams.get('hidden_channels') # Default to 0.001 if not provided\n",
    "\n",
    "    model = model_class(n_channels=1, hidden_channels=hidden_channels, output_shape=len(set(dataset.targets)))\n",
    "    model.to(device)\n",
    "    \n",
    "    optimizer = getattr(torch.optim, optimizer_name)(model.parameters(), lr=learning_rate, weight_decay=wd)\n",
    "\n",
    "    # Check if the file is empty or does not exist\n",
    "    if not os.path.exists(out_str) or os.stat(out_str).st_size == 0:\n",
    "        # File does not exist or is empty, create it\n",
    "        log_file = open(out_str, \"w\")\n",
    "        log_file.write('epoch'+'\\t'+'training_loss'+'\\t'+'training_acc'+'\\t'+'validation_loss'+'\\t'+'validation_acc'+'\\n')\n",
    "    else:\n",
    "        # File exists, append\n",
    "        log_file = open(out_str, \"a\")\n",
    "\n",
    "    # Create indices for stratified split\n",
    "    train_idx, val_idx = StratifiedSplit(dataset, test_size_fraction=0.2)\n",
    "\n",
    "    # Create data subsets for train and validarion\n",
    "    train_subset = torch.utils.data.Subset(dataset, train_idx)\n",
    "    val_subset = torch.utils.data.Subset(dataset, val_idx)\n",
    "\n",
    "    # Create loaders\n",
    "    train_loader = DataLoader(train_subset, batch_size=batch_size, shuffle=True)\n",
    "    val_loader = DataLoader(val_subset, batch_size=batch_size, shuffle=False)\n",
    "\n",
    "    total_step = len(train_loader)\n",
    "\n",
    "    for epoch in range(max_epochs):\n",
    "        model.train()\n",
    "        print(f'Train step, epoch: {epoch+1}')\n",
    "        train_loss, train_acc = training_epoch(model, optimizer, criterion, train_loader, device)\n",
    "        print(f'Epoch: {epoch+1}, train loss = {train_loss}, train accuracy = {train_acc}')\n",
    "\n",
    "        # Early stopping and validation\n",
    "        print(f'Val step, epoch: {epoch+1}')\n",
    "        model.eval()\n",
    "        val_loss, val_acc = validation_epoch(model, criterion, val_loader, device)\n",
    "        print(f'Epoch: {epoch+1}, validation loss = {val_loss}, validation accuracy = {val_acc}')\n",
    "\n",
    "        if early_stopper.early_stop(val_loss):\n",
    "            print(f\"Early stopping triggered at epoch {epoch + 1}\")\n",
    "            break\n",
    "\n",
    "        # Logging\n",
    "        log_file.write(f\"{epoch}\\t{train_loss:.4f}\\t{train_acc:.4f}\\t{val_loss:.4f}\\t{val_acc:.4f}\\n\")\n",
    "\n",
    "    log_file.close()\n",
    "    return model"
   ]
  },
  {
   "cell_type": "markdown",
   "metadata": {},
   "source": [
    "### Hyperparameter tuning"
   ]
  },
  {
   "cell_type": "markdown",
   "metadata": {},
   "source": [
    "Cross Validation training.\n",
    "We are using the Optima library to search the optimal hyperparameters.\n",
    "\n",
    "An early stopping policy is implemented to reduce run time and avoid overfitting.\n",
    "\n",
    "We have to train independently over the folds\n",
    "\n",
    "The hyperparameters to be searched are:\n",
    "- batch size\n",
    "- optimizer\n",
    "- learning rate (logarithmic sampling)\n",
    "- weight decay (logarithmic sampling)"
   ]
  },
  {
   "cell_type": "code",
   "execution_count": 18,
   "metadata": {},
   "outputs": [],
   "source": [
    "def objective_vgg(trial, dataset, model, criterion, cross_validator, device, early_stopper):\n",
    "\n",
    "    num_epochs = 10\n",
    "\n",
    "    # Sample hyperparameters\n",
    "    batch_size = trial.suggest_categorical(\"batch_size\", [8, 16, 32, 64])\n",
    "    optimizer_name = trial.suggest_categorical(\"optimizer\", [\"Adam\", \"SGD\"])\n",
    "    lr = trial.suggest_float(\"lr\", 1e-5, 1e-1, log=True)\n",
    "    wd = trial.suggest_float(\"weight_decay\", 1e-4, 1e-1, log=True)\n",
    "\n",
    "    optimizer = getattr(torch.optim, optimizer_name)(model.parameters(), lr=lr, weight_decay=wd)\n",
    "\n",
    "    # Ensure model and criterion are on the correct device\n",
    "    model.to(device)\n",
    "    criterion.to(device)\n",
    "\n",
    "    # Split into image and targets for the cross validator split\n",
    "    X_train = np.array(dataset.images)\n",
    "    y_train = np.array(dataset.targets)\n",
    "\n",
    "    # To store validation and training losses and accuracies for each fold\n",
    "    val_losses_over_folds = []\n",
    "    train_losses_over_folds = []\n",
    "    val_accs_over_folds = []\n",
    "    train_accs_over_folds = []\n",
    "\n",
    "    for fold, (train_idx, val_idx) in enumerate(tqdm(cross_validator.split(X_train, y_train), desc=\"Folds\", unit=\"fold\")):\n",
    "        early_stopper.reset()\n",
    "        \n",
    "        train_subset = torch.utils.data.Subset(dataset, train_idx)\n",
    "        val_subset = torch.utils.data.Subset(dataset, val_idx)\n",
    "\n",
    "        train_loader = DataLoader(train_subset, batch_size=batch_size, shuffle=True)\n",
    "        val_loader = DataLoader(val_subset, batch_size=batch_size, shuffle=False)\n",
    "\n",
    "        val_losses = []\n",
    "        train_losses = []\n",
    "        val_accs = []\n",
    "        train_accs = []\n",
    "\n",
    "        model_copy = model\n",
    "        model_copy.to(device)\n",
    "\n",
    "        for epoch in tqdm(range(num_epochs), desc=f\"Fold {fold + 1} Epochs\", unit=\"epoch\", leave=False):\n",
    "            model_copy.train()\n",
    "            train_loss, train_acc = training_epoch(model_copy, optimizer, criterion, train_loader, device)\n",
    "            train_losses.append(train_loss)\n",
    "            train_accs.append(train_acc)\n",
    "\n",
    "            model_copy.eval()\n",
    "            val_loss, val_acc = validation_epoch(model_copy, criterion, val_loader, device)\n",
    "            if early_stopper.early_stop(val_loss):\n",
    "                break\n",
    "\n",
    "            val_losses.append(val_loss)\n",
    "            val_accs.append(val_acc)\n",
    "\n",
    "        train_losses_over_folds.append(train_losses)\n",
    "        train_accs_over_folds.append(train_accs)\n",
    "        val_losses_over_folds.append(val_losses)\n",
    "        val_accs_over_folds.append(val_accs)\n",
    "\n",
    "    avg_last_val_loss = np.mean([losses[-1] for losses in val_losses_over_folds])\n",
    "    trial.set_user_attr(\"val_losses_over_folds\", val_losses_over_folds)\n",
    "    trial.set_user_attr(\"train_losses_over_folds\", train_losses_over_folds)\n",
    "    trial.set_user_attr(\"val_accs_over_folds\", val_accs_over_folds)\n",
    "    trial.set_user_attr(\"train_accs_over_folds\", train_accs_over_folds)\n",
    "\n",
    "    return avg_last_val_loss"
   ]
  },
  {
   "cell_type": "code",
   "execution_count": null,
   "metadata": {},
   "outputs": [],
   "source": [
    "def objective_coppo(trial, dataset, model_class, criterion, cross_validator, device, early_stopper):\n",
    "    num_epochs = 10\n",
    "\n",
    "    # Sample hyperparameters\n",
    "    batch_size = 32\n",
    "    optimizer_name = \"Adam\"\n",
    "    lr = trial.suggest_float(\"lr\", 1e-5, 1e-1, log=True)\n",
    "    wd = trial.suggest_float(\"weight_decay\", 1e-4, 1e-1, log=True)\n",
    "\n",
    "    # Define possible channel configurations\n",
    "    hidden_channel_choices = [\n",
    "        [4, 8, 16, 32, 48, 64],\n",
    "        [6, 16, 32, 64, 96, 128],\n",
    "        [3, 9, 15, 30, 45, 90]\n",
    "    ]\n",
    "    hidden_channels = trial.suggest_categorical(\"hidden_channels\", hidden_channel_choices)\n",
    "\n",
    "    # Create a fresh model instance with the selected configuration\n",
    "    model = model_class(n_channels=1, hidden_channels=hidden_channels, output_shape=len(set(dataset.targets)))\n",
    "    model.to(device)\n",
    "    criterion.to(device)\n",
    "\n",
    "    optimizer = getattr(torch.optim, optimizer_name)(model.parameters(), lr=lr, weight_decay=wd)\n",
    "\n",
    "    # Split into image and targets for the cross-validator split\n",
    "    X_train = np.array(dataset.images)\n",
    "    y_train = np.array(dataset.targets)\n",
    "\n",
    "    # To store validation and training losses and accuracies for each fold\n",
    "    val_losses_over_folds = []\n",
    "    train_losses_over_folds = []\n",
    "    val_accs_over_folds = []\n",
    "    train_accs_over_folds = []\n",
    "\n",
    "    for fold, (train_idx, val_idx) in enumerate(tqdm(cross_validator.split(X_train, y_train), desc=\"Folds\", unit=\"fold\")):\n",
    "        early_stopper.reset()\n",
    "        \n",
    "        train_subset = torch.utils.data.Subset(dataset, train_idx)\n",
    "        val_subset = torch.utils.data.Subset(dataset, val_idx)\n",
    "\n",
    "        train_loader = DataLoader(train_subset, batch_size=batch_size, shuffle=True)\n",
    "        val_loader = DataLoader(val_subset, batch_size=batch_size, shuffle=False)\n",
    "\n",
    "        val_losses = []\n",
    "        train_losses = []\n",
    "        val_accs = []\n",
    "        train_accs = []\n",
    "        \n",
    "        model_copy = model\n",
    "        model_copy.to(device)\n",
    "\n",
    "        for epoch in tqdm(range(num_epochs), desc=f\"Fold {fold + 1} Epochs\", unit=\"epoch\", leave=False):\n",
    "            model_copy.train()\n",
    "            train_loss, train_acc = training_epoch(model_copy, optimizer, criterion, train_loader, device)\n",
    "            train_losses.append(train_loss)\n",
    "            train_accs.append(train_acc)\n",
    "\n",
    "            model_copy.eval()\n",
    "            val_loss, val_acc = validation_epoch(model_copy, criterion, val_loader, device)\n",
    "            if early_stopper.early_stop(val_loss):\n",
    "                break\n",
    "\n",
    "            val_losses.append(val_loss)\n",
    "            val_accs.append(val_acc)\n",
    "\n",
    "        train_losses_over_folds.append(train_losses)\n",
    "        train_accs_over_folds.append(train_accs)\n",
    "        val_losses_over_folds.append(val_losses)\n",
    "        val_accs_over_folds.append(val_accs)\n",
    "\n",
    "    avg_last_val_loss = np.mean([losses[-1] for losses in val_losses_over_folds])\n",
    "    trial.set_user_attr(\"val_losses_over_folds\", val_losses_over_folds)\n",
    "    trial.set_user_attr(\"train_losses_over_folds\", train_losses_over_folds)\n",
    "    trial.set_user_attr(\"val_accs_over_folds\", val_accs_over_folds)\n",
    "    trial.set_user_attr(\"train_accs_over_folds\", train_accs_over_folds)\n",
    "    \n",
    "    return avg_last_val_loss\n"
   ]
  },
  {
   "cell_type": "code",
   "execution_count": 17,
   "metadata": {},
   "outputs": [],
   "source": [
    "def objective_coppo64(trial, dataset, model_class, criterion, cross_validator, device, early_stopper):\n",
    "    num_epochs = 10\n",
    "\n",
    "    # Sample hyperparameters\n",
    "    batch_size = 32\n",
    "    optimizer_name = \"Adam\"\n",
    "    lr = trial.suggest_float(\"lr\", 1e-5, 1e-1, log=True)\n",
    "    wd = trial.suggest_float(\"weight_decay\", 1e-4, 1e-1, log=True)\n",
    "\n",
    "    # Define possible channel configurations\n",
    "    hidden_channel_choices = [\n",
    "        [4, 8, 16, 32],\n",
    "        [6, 16, 32, 64],\n",
    "        [3, 9, 15, 45]\n",
    "    ]\n",
    "    hidden_channels = trial.suggest_categorical(\"hidden_channels\", hidden_channel_choices)\n",
    "\n",
    "    # Create a fresh model instance with the selected configuration\n",
    "    model = model_class(n_channels=1, hidden_channels=hidden_channels, output_shape=len(set(dataset.targets)))\n",
    "    model.to(device)\n",
    "    criterion.to(device)\n",
    "\n",
    "    optimizer = getattr(torch.optim, optimizer_name)(model.parameters(), lr=lr, weight_decay=wd)\n",
    "\n",
    "    # Split into image and targets for the cross-validator split\n",
    "    X_train = np.array(dataset.images)\n",
    "    y_train = np.array(dataset.targets)\n",
    "\n",
    "    # To store validation and training losses and accuracies for each fold\n",
    "    val_losses_over_folds = []\n",
    "    train_losses_over_folds = []\n",
    "    val_accs_over_folds = []\n",
    "    train_accs_over_folds = []\n",
    "\n",
    "    for fold, (train_idx, val_idx) in enumerate(tqdm(cross_validator.split(X_train, y_train), desc=\"Folds\", unit=\"fold\")):\n",
    "        early_stopper.reset()\n",
    "        \n",
    "        train_subset = torch.utils.data.Subset(dataset, train_idx)\n",
    "        val_subset = torch.utils.data.Subset(dataset, val_idx)\n",
    "\n",
    "        train_loader = DataLoader(train_subset, batch_size=batch_size, shuffle=True)\n",
    "        val_loader = DataLoader(val_subset, batch_size=batch_size, shuffle=False)\n",
    "\n",
    "        val_losses = []\n",
    "        train_losses = []\n",
    "        val_accs = []\n",
    "        train_accs = []\n",
    "        \n",
    "        model_copy = model\n",
    "        model_copy.to(device)\n",
    "\n",
    "        for epoch in tqdm(range(num_epochs), desc=f\"Fold {fold + 1} Epochs\", unit=\"epoch\", leave=False):\n",
    "            print(f\"Started fold: {fold+1}, epoch: {epoch + 1}\")\n",
    "            model_copy.train()\n",
    "            train_loss, train_acc = training_epoch(model_copy, optimizer, criterion, train_loader, device)\n",
    "            train_losses.append(train_loss)\n",
    "            train_accs.append(train_acc)\n",
    "\n",
    "            model_copy.eval()\n",
    "            val_loss, val_acc = validation_epoch(model_copy, criterion, val_loader, device)\n",
    "            if early_stopper.early_stop(val_loss):\n",
    "                break\n",
    "\n",
    "            val_losses.append(val_loss)\n",
    "            val_accs.append(val_acc)\n",
    "\n",
    "        train_losses_over_folds.append(train_losses)\n",
    "        train_accs_over_folds.append(train_accs)\n",
    "        val_losses_over_folds.append(val_losses)\n",
    "        val_accs_over_folds.append(val_accs)\n",
    "\n",
    "    avg_last_val_loss = np.mean([losses[-1] for losses in val_losses_over_folds])\n",
    "    trial.set_user_attr(\"val_losses_over_folds\", val_losses_over_folds)\n",
    "    trial.set_user_attr(\"train_losses_over_folds\", train_losses_over_folds)\n",
    "    trial.set_user_attr(\"val_accs_over_folds\", val_accs_over_folds)\n",
    "    trial.set_user_attr(\"train_accs_over_folds\", train_accs_over_folds)\n",
    "    \n",
    "    return avg_last_val_loss\n"
   ]
  },
  {
   "cell_type": "markdown",
   "metadata": {},
   "source": [
    "Hyperparameter report"
   ]
  },
  {
   "cell_type": "markdown",
   "metadata": {},
   "source": [
    "Save best parameters to file"
   ]
  },
  {
   "cell_type": "code",
   "execution_count": 18,
   "metadata": {},
   "outputs": [],
   "source": [
    "def save_best_trial_to_file(filepath, best_trial):\n",
    "    # Extract parameters and user attributes\n",
    "    best_params = best_trial.params\n",
    "    best_user_attrs = best_trial.user_attrs\n",
    "\n",
    "    # Combine them into a single dictionary\n",
    "    output_data = {\n",
    "        \"Best Trial\": {\n",
    "            \"Params\": best_params,\n",
    "            \"User Attrs\": best_user_attrs\n",
    "        }\n",
    "    }\n",
    "\n",
    "    # Write to a JSON file\n",
    "    with open(filepath, \"w\") as file:\n",
    "        json.dump(output_data, file, indent=4)\n",
    "\n",
    "    print(f\"Best trial saved to {filepath}\")\n"
   ]
  },
  {
   "cell_type": "markdown",
   "metadata": {},
   "source": [
    "Load best trial"
   ]
  },
  {
   "cell_type": "code",
   "execution_count": 19,
   "metadata": {},
   "outputs": [],
   "source": [
    "def load_best_trial_from_file(filepath):\n",
    "    with open(filepath, \"r\") as file:\n",
    "        data = json.load(file)\n",
    "    \n",
    "    # Extract Params and User Attrs\n",
    "    best_params = data[\"Best Trial\"][\"Params\"]\n",
    "    best_user_attrs = data[\"Best Trial\"][\"User Attrs\"]\n",
    "    \n",
    "    return best_params, best_user_attrs"
   ]
  },
  {
   "cell_type": "markdown",
   "metadata": {},
   "source": [
    "Report"
   ]
  },
  {
   "cell_type": "code",
   "execution_count": 20,
   "metadata": {},
   "outputs": [],
   "source": [
    "def hyperparameter_report(best_trial):\n",
    "    # Retrieve attributes\n",
    "    ## Validation losses, training losses, and accuracies\n",
    "    best_val_losses = best_trial.user_attrs.get(\"val_losses_over_folds\", None)\n",
    "    best_train_losses = best_trial.user_attrs.get(\"train_losses_over_folds\", None)\n",
    "    best_val_accs = best_trial.user_attrs.get(\"val_accs_over_folds\", None)\n",
    "    best_train_accs = best_trial.user_attrs.get(\"train_accs_over_folds\", None)\n",
    "    \n",
    "    if not all([best_val_losses, best_train_losses, best_val_accs, best_train_accs]):\n",
    "        raise ValueError(\"The best trial does not have necessary metrics stored in its user attributes.\")\n",
    "\n",
    "    # Aggregate across folds (padding for alignment)\n",
    "    def aggregate_folds(fold_data):\n",
    "        return np.array([\n",
    "            np.pad(fold, (0, max(map(len, fold_data)) - len(fold)), mode='constant', constant_values=np.nan)\n",
    "            for fold in fold_data\n",
    "        ])\n",
    "\n",
    "    # Aggregate metrics across folds\n",
    "    val_losses_array = aggregate_folds(best_val_losses)\n",
    "    train_losses_array = aggregate_folds(best_train_losses)\n",
    "    val_accs_array = aggregate_folds(best_val_accs)\n",
    "    train_accs_array = aggregate_folds(best_train_accs)\n",
    "\n",
    "    # Compute mean and standard deviation across folds\n",
    "    mean_val_loss = np.nanmean(val_losses_array, axis=0)\n",
    "    std_val_loss = np.nanstd(val_losses_array, axis=0)\n",
    "\n",
    "    mean_train_loss = np.nanmean(train_losses_array, axis=0)\n",
    "    std_train_loss = np.nanstd(train_losses_array, axis=0)\n",
    "\n",
    "    mean_val_acc = np.nanmean(val_accs_array, axis=0)\n",
    "    std_val_acc = np.nanstd(val_accs_array, axis=0)\n",
    "\n",
    "    mean_train_acc = np.nanmean(train_accs_array, axis=0)\n",
    "    std_train_acc = np.nanstd(train_accs_array, axis=0)\n",
    "\n",
    "    # Plot\n",
    "    epochs = range(1, len(mean_val_loss) + 1)\n",
    "\n",
    "    # Create figure and axis\n",
    "    fig, ax1 = plt.subplots()\n",
    "\n",
    "    # Plot validation loss and training loss with standard deviations\n",
    "    ax1.plot(epochs, mean_val_loss, label=\"Mean Validation Loss\", color='tab:blue')\n",
    "    ax1.fill_between(epochs, mean_val_loss - std_val_loss, mean_val_loss + std_val_loss, color='tab:blue', alpha=0.2, label=\"±Std Validation Loss\")\n",
    "    ax1.plot(epochs, mean_train_loss, label=\"Mean Training Loss\", color='tab:orange')\n",
    "    ax1.fill_between(epochs, mean_train_loss - std_train_loss, mean_train_loss + std_train_loss, color='tab:orange', alpha=0.2, label=\"±Std Training Loss\")\n",
    "\n",
    "    ax1.set_xlabel(\"Epoch\")\n",
    "    ax1.set_ylabel(\"Loss\")\n",
    "    ax1.set_title(\"Loss and Accuracy (Best Hyperparameters)\")\n",
    "    ax1.legend(loc=\"upper left\")\n",
    "\n",
    "    # Create a second y-axis for accuracy\n",
    "    ax2 = ax1.twinx()\n",
    "    ax2.plot(epochs, mean_train_acc, label=\"Mean Training Accuracy\", color='tab:green')\n",
    "    ax2.fill_between(epochs, mean_train_acc - std_train_acc, mean_train_acc + std_train_acc, color='tab:green', alpha=0.2, label=\"±Std Training Accuracy\")\n",
    "    ax2.plot(epochs, mean_val_acc, label=\"Mean Validation Accuracy\", color='tab:red')\n",
    "    ax2.fill_between(epochs, mean_val_acc - std_val_acc, mean_val_acc + std_val_acc, color='tab:red', alpha=0.2, label=\"±Std Validation Accuracy\")\n",
    "\n",
    "    ax2.set_ylabel(\"Accuracy\")\n",
    "    ax2.legend(loc=\"upper right\")\n",
    "\n",
    "    # Show plot\n",
    "    plt.show()\n",
    "\n",
    "    return\n"
   ]
  },
  {
   "cell_type": "markdown",
   "metadata": {},
   "source": [
    "# Models"
   ]
  },
  {
   "cell_type": "markdown",
   "metadata": {},
   "source": [
    "## ArtCoppo128"
   ]
  },
  {
   "cell_type": "markdown",
   "metadata": {},
   "source": [
    "Custom model, takes 128x128 (randomly cropped to 112x112) images as inputs\n",
    "\n",
    "Comments after each convolution or pooling are the size of the output\n",
    "\n",
    "The numbers of channels are going to be hidden features, hopefully optimized by the hyperparameter search"
   ]
  },
  {
   "cell_type": "code",
   "execution_count": 63,
   "metadata": {},
   "outputs": [],
   "source": [
    "class ArtCoppo128(nn.Module):\n",
    "    def __init__(self, n_channels: int, hidden_channels: list, output_shape: int):\n",
    "        super().__init__()\n",
    "        # input dimension 112x112\n",
    "        # 110 108 54\n",
    "        self.block_1 = nn.Sequential(\n",
    "            nn.Conv2d(in_channels=n_channels, \n",
    "                out_channels=hidden_channels[0], \n",
    "                kernel_size=3, \n",
    "                stride=1, \n",
    "                padding=0), # 110\n",
    "            nn.ReLU(),\n",
    "            nn.Conv2d(in_channels=hidden_channels[0], \n",
    "                out_channels=hidden_channels[1], \n",
    "                kernel_size=3, \n",
    "                stride=1, \n",
    "                padding=0), # 108\n",
    "            nn.ReLU(),\n",
    "            nn.MaxPool2d(kernel_size=6, stride=2) # 52\n",
    "        )\n",
    "        self.block_2 = nn.Sequential(\n",
    "            nn.Conv2d(in_channels=hidden_channels[1], \n",
    "                out_channels=hidden_channels[2], \n",
    "                kernel_size=3, \n",
    "                stride=1, \n",
    "                padding=0), # 50\n",
    "            nn.ReLU(),\n",
    "            nn.Conv2d(in_channels=hidden_channels[2],\n",
    "                out_channels=hidden_channels[3], \n",
    "                kernel_size=3, \n",
    "                stride=1,\n",
    "                padding=1), # 50\n",
    "            nn.ReLU(),\n",
    "            nn.MaxPool2d(kernel_size=4, stride=2) # 24\n",
    "        )\n",
    "        self.block_3 = nn.Sequential(\n",
    "            nn.Conv2d(in_channels=hidden_channels[3], \n",
    "                out_channels=hidden_channels[4], \n",
    "                kernel_size=3, \n",
    "                stride=1, \n",
    "                padding=0), # 22\n",
    "            nn.ReLU(),\n",
    "            nn.Conv2d(in_channels=hidden_channels[4], \n",
    "                out_channels=hidden_channels[5], \n",
    "                kernel_size=3, \n",
    "                stride=1, \n",
    "                padding=0), # 20\n",
    "            nn.ReLU(),\n",
    "            nn.MaxPool2d(kernel_size=2, stride=2) # 10\n",
    "        )\n",
    "        self.classifier = nn.Sequential(\n",
    "            nn.Flatten(),\n",
    "            nn.Linear(in_features=hidden_channels[5]*10*10, out_features=125),\n",
    "            nn.Linear(in_features=125, out_features=75),\n",
    "            nn.Linear(in_features=75, out_features=output_shape)\n",
    "        )\n",
    "\n",
    "    def forward(self, x: torch.Tensor):\n",
    "        x = self.block_1(x)\n",
    "        x = self.block_2(x)\n",
    "        x = self.block_3(x)\n",
    "        x = self.classifier(x)\n",
    "        return x"
   ]
  },
  {
   "cell_type": "markdown",
   "metadata": {},
   "source": [
    "## ArtCoppo64"
   ]
  },
  {
   "cell_type": "markdown",
   "metadata": {},
   "source": [
    "Light-weight version to be trained on local cpu"
   ]
  },
  {
   "cell_type": "code",
   "execution_count": 21,
   "metadata": {},
   "outputs": [],
   "source": [
    "class ArtCoppo64(nn.Module):\n",
    "    def __init__(self, n_channels: int, hidden_channels: list, output_shape: int):\n",
    "        super().__init__()\n",
    "        # input dimension 56x56\n",
    "        self.block_1 = nn.Sequential(\n",
    "            nn.Conv2d(in_channels=n_channels, \n",
    "                out_channels=hidden_channels[0], \n",
    "                kernel_size=3, \n",
    "                stride=1, \n",
    "                padding=0), # 54\n",
    "            nn.ReLU(),\n",
    "            nn.Conv2d(in_channels=hidden_channels[0], \n",
    "                out_channels=hidden_channels[1], \n",
    "                kernel_size=3, \n",
    "                stride=1, \n",
    "                padding=0), # 52\n",
    "            nn.ReLU(),\n",
    "            nn.MaxPool2d(kernel_size=4, stride=2) # 25\n",
    "        )\n",
    "        self.block_2 = nn.Sequential(\n",
    "            nn.Conv2d(in_channels=hidden_channels[1], \n",
    "                out_channels=hidden_channels[2], \n",
    "                kernel_size=3, \n",
    "                stride=1, \n",
    "                padding=0), # 23\n",
    "            nn.ReLU(),\n",
    "            nn.Conv2d(in_channels=hidden_channels[2],\n",
    "                out_channels=hidden_channels[3], \n",
    "                kernel_size=3, \n",
    "                stride=1,\n",
    "                padding=0), # 21\n",
    "            nn.ReLU(),\n",
    "            nn.MaxPool2d(kernel_size=3, stride=2) # 10\n",
    "        )\n",
    "        self.classifier = nn.Sequential(\n",
    "            nn.Flatten(),\n",
    "            nn.Linear(in_features=hidden_channels[3]*10*10, out_features=125),\n",
    "            nn.Linear(in_features=125, out_features=75),\n",
    "            nn.Linear(in_features=75, out_features=output_shape)\n",
    "        )\n",
    "\n",
    "    def forward(self, x: torch.Tensor):\n",
    "        x = self.block_1(x)\n",
    "        x = self.block_2(x)\n",
    "        x = self.classifier(x)\n",
    "        return x"
   ]
  },
  {
   "cell_type": "markdown",
   "metadata": {},
   "source": [
    "## VGG19"
   ]
  },
  {
   "cell_type": "code",
   "execution_count": 25,
   "metadata": {},
   "outputs": [
    {
     "name": "stderr",
     "output_type": "stream",
     "text": [
      "/home/iridhexx/miniconda3/envs/ai/lib/python3.12/site-packages/torchvision/models/_utils.py:208: UserWarning: The parameter 'pretrained' is deprecated since 0.13 and may be removed in the future, please use 'weights' instead.\n",
      "  warnings.warn(\n",
      "/home/iridhexx/miniconda3/envs/ai/lib/python3.12/site-packages/torchvision/models/_utils.py:223: UserWarning: Arguments other than a weight enum or `None` for 'weights' are deprecated since 0.13 and may be removed in the future. The current behavior is equivalent to passing `weights=VGG19_Weights.IMAGENET1K_V1`. You can also use `weights=VGG19_Weights.DEFAULT` to get the most up-to-date weights.\n",
      "  warnings.warn(msg)\n"
     ]
    }
   ],
   "source": [
    "vgg19 = torchvision.models.vgg19(pretrained=True)"
   ]
  },
  {
   "cell_type": "markdown",
   "metadata": {},
   "source": [
    "# Main"
   ]
  },
  {
   "cell_type": "markdown",
   "metadata": {},
   "source": [
    "## GPU availability"
   ]
  },
  {
   "cell_type": "markdown",
   "metadata": {},
   "source": [
    "Check if GPU is available"
   ]
  },
  {
   "cell_type": "code",
   "execution_count": 22,
   "metadata": {},
   "outputs": [
    {
     "data": {
      "text/plain": [
       "False"
      ]
     },
     "execution_count": 22,
     "metadata": {},
     "output_type": "execute_result"
    }
   ],
   "source": [
    "torch.cuda.is_available()"
   ]
  },
  {
   "cell_type": "markdown",
   "metadata": {},
   "source": [
    "Device-agnostic coding requires the following line"
   ]
  },
  {
   "cell_type": "code",
   "execution_count": 23,
   "metadata": {},
   "outputs": [
    {
     "data": {
      "text/plain": [
       "device(type='cpu')"
      ]
     },
     "execution_count": 23,
     "metadata": {},
     "output_type": "execute_result"
    }
   ],
   "source": [
    "device = torch.device('cuda' if torch.cuda.is_available() else 'cpu')\n",
    "device"
   ]
  },
  {
   "cell_type": "markdown",
   "metadata": {},
   "source": [
    "## Data exploration"
   ]
  },
  {
   "cell_type": "markdown",
   "metadata": {},
   "source": [
    "### Import data"
   ]
  },
  {
   "cell_type": "markdown",
   "metadata": {},
   "source": [
    "Perform a scan of the dataset folder to avoid corrupted or small images"
   ]
  },
  {
   "cell_type": "code",
   "execution_count": 8,
   "metadata": {},
   "outputs": [
    {
     "name": "stderr",
     "output_type": "stream",
     "text": [
      "libpng warning: iCCP: known incorrect sRGB profile\n",
      "libpng warning: iCCP: known incorrect sRGB profile\n",
      "libpng warning: iCCP: known incorrect sRGB profile\n",
      "libpng warning: iCCP: known incorrect sRGB profile\n",
      "libpng warning: iCCP: known incorrect sRGB profile\n",
      "libpng warning: iCCP: profile 'ICC Profile': 'RGB ': RGB color space not permitted on grayscale PNG\n"
     ]
    }
   ],
   "source": [
    "ImageFolderScan(DATASET_FOLDER,DIM)"
   ]
  },
  {
   "cell_type": "markdown",
   "metadata": {},
   "source": [
    "Define the set of transformations to be applied to the images"
   ]
  },
  {
   "cell_type": "code",
   "execution_count": 24,
   "metadata": {},
   "outputs": [],
   "source": [
    "trans_comp_coppo = TransformationComposer(dimension=DIM, color=False)"
   ]
  },
  {
   "cell_type": "markdown",
   "metadata": {},
   "source": [
    "Import the dataset"
   ]
  },
  {
   "cell_type": "code",
   "execution_count": 25,
   "metadata": {},
   "outputs": [],
   "source": [
    "dataset = ImageFolder(DATASET_FOLDER, transform=trans_comp_coppo)"
   ]
  },
  {
   "cell_type": "markdown",
   "metadata": {},
   "source": [
    "Check class dictionary"
   ]
  },
  {
   "cell_type": "code",
   "execution_count": 26,
   "metadata": {},
   "outputs": [
    {
     "data": {
      "text/plain": [
       "{'21st_Century': 0,\n",
       " 'Baroque': 1,\n",
       " 'Classical': 2,\n",
       " 'Early_Christian_Medieval': 3,\n",
       " 'Eclecticism': 4,\n",
       " 'Modernism': 5,\n",
       " 'Neoclassicism': 6,\n",
       " 'Renaissance_and_Colonialism': 7,\n",
       " 'Revivalism': 8}"
      ]
     },
     "execution_count": 26,
     "metadata": {},
     "output_type": "execute_result"
    }
   ],
   "source": [
    "dataset.class_to_idx"
   ]
  },
  {
   "cell_type": "markdown",
   "metadata": {},
   "source": [
    "Create inverse dictionary"
   ]
  },
  {
   "cell_type": "code",
   "execution_count": 27,
   "metadata": {},
   "outputs": [],
   "source": [
    "label_dictionary = dict((v, str(os.path.basename(os.path.normpath(k)))) for k, v in dataset.class_to_idx.items())"
   ]
  },
  {
   "cell_type": "markdown",
   "metadata": {},
   "source": [
    "### Class exploration"
   ]
  },
  {
   "cell_type": "markdown",
   "metadata": {},
   "source": [
    "Check whether classes are imbalanced, if so, stratified sampling is necessary"
   ]
  },
  {
   "cell_type": "code",
   "execution_count": 44,
   "metadata": {},
   "outputs": [
    {
     "data": {
      "image/png": "[encoded data removed]",
      "text/plain": [
       "<Figure size 640x480 with 1 Axes>"
      ]
     },
     "metadata": {},
     "output_type": "display_data"
    }
   ],
   "source": [
    "plt.hist([dataset[idx][1] for idx in range(len(dataset))], bins=len(dataset.classes))\n",
    "plt.title('Dataset class distribution')\n",
    "plt.show()"
   ]
  },
  {
   "cell_type": "markdown",
   "metadata": {},
   "source": [
    "Clearly imbalanced"
   ]
  },
  {
   "cell_type": "markdown",
   "metadata": {},
   "source": [
    "### Stratified train-test split"
   ]
  },
  {
   "cell_type": "markdown",
   "metadata": {},
   "source": [
    "Split the dataset into training and test sets, taking into account class distribution"
   ]
  },
  {
   "cell_type": "code",
   "execution_count": 28,
   "metadata": {},
   "outputs": [],
   "source": [
    "train_idx, test_idx = StratifiedSplit(dataset)\n",
    "\n",
    "# Create datasets for train and test\n",
    "train_dataset = CustomImageDataset(dataset, train_idx, transform=trans_comp_coppo)\n",
    "test_dataset = CustomImageDataset(dataset, test_idx, transform=trans_comp_coppo)\n",
    "# Need to call trans_comp_vgg_color again because train_idx, test_idx are just indices"
   ]
  },
  {
   "cell_type": "markdown",
   "metadata": {},
   "source": [
    "Check whether test set class distribution resembles the original"
   ]
  },
  {
   "cell_type": "code",
   "execution_count": 47,
   "metadata": {},
   "outputs": [
    {
     "data": {
      "image/png": "[encoded data removed]",
      "text/plain": [
       "<Figure size 640x480 with 1 Axes>"
      ]
     },
     "metadata": {},
     "output_type": "display_data"
    }
   ],
   "source": [
    "plt.hist([test_dataset[idx][1] for idx in range(len(test_dataset))], bins=len(dataset.classes))\n",
    "plt.title('Test set class distribution')\n",
    "plt.show()"
   ]
  },
  {
   "cell_type": "markdown",
   "metadata": {},
   "source": [
    "### Stratified K-fold sampling"
   ]
  },
  {
   "cell_type": "markdown",
   "metadata": {},
   "source": [
    "#### Visualization"
   ]
  },
  {
   "cell_type": "markdown",
   "metadata": {},
   "source": [
    "Visualize stratified K-fold. For the sake of clarity, we will only plot the first 4 classes"
   ]
  },
  {
   "cell_type": "code",
   "execution_count": 48,
   "metadata": {},
   "outputs": [],
   "source": [
    "splits = 4\n",
    "reps = 2\n",
    "rskf = RepeatedStratifiedKFold(n_repeats=reps, n_splits=splits)\n",
    "skf = StratifiedKFold(n_splits=splits, shuffle=False)"
   ]
  },
  {
   "cell_type": "code",
   "execution_count": 52,
   "metadata": {},
   "outputs": [
    {
     "data": {
      "image/png": "[encoded data removed]",
      "text/plain": [
       "<Figure size 640x480 with 1 Axes>"
      ]
     },
     "metadata": {},
     "output_type": "display_data"
    },
    {
     "data": {
      "image/png": "[encoded data removed]",
      "text/plain": [
       "<Figure size 640x480 with 1 Axes>"
      ]
     },
     "metadata": {},
     "output_type": "display_data"
    }
   ],
   "source": [
    "StratifiedKFoldVisual(train_dataset, rskf, mask_len = 4, test_title='Validation set')\n",
    "StratifiedKFoldVisual(train_dataset, skf, mask_len = 4, test_title='Validation set')"
   ]
  },
  {
   "cell_type": "markdown",
   "metadata": {},
   "source": [
    "#### Implementation"
   ]
  },
  {
   "cell_type": "markdown",
   "metadata": {},
   "source": [
    "The '''split''' method in (Repeated)StratifiedKFold returns the array of indices relative to a the test and validation set of a given fold.\n",
    "Here, we check whether one of these folds respects the original class distribution"
   ]
  },
  {
   "cell_type": "code",
   "execution_count": 53,
   "metadata": {},
   "outputs": [],
   "source": [
    "X_train = np.array(train_dataset.images)\n",
    "y_train = np.array(train_dataset.targets)"
   ]
  },
  {
   "cell_type": "code",
   "execution_count": 54,
   "metadata": {},
   "outputs": [],
   "source": [
    "for fold, (train_index, val_index) in enumerate(rskf.split(X_train, y_train)):\n",
    "    if fold == 0:  # Only take the first fold\n",
    "        train_fold_sub = torch.utils.data.Subset(train_dataset, train_idx)\n",
    "        val_fold_sub = torch.utils.data.Subset(train_dataset, test_idx)\n",
    "        break  # Exit after the first fold"
   ]
  },
  {
   "cell_type": "markdown",
   "metadata": {},
   "source": [
    "Check whether class distribution resembles the original"
   ]
  },
  {
   "cell_type": "code",
   "execution_count": 55,
   "metadata": {},
   "outputs": [
    {
     "data": {
      "image/png": "[encoded data removed]",
      "text/plain": [
       "<Figure size 640x480 with 1 Axes>"
      ]
     },
     "metadata": {},
     "output_type": "display_data"
    }
   ],
   "source": [
    "plt.hist(train_fold_sub.dataset.targets, bins=len(dataset.classes))\n",
    "plt.title('Train set class distribution')\n",
    "plt.show()"
   ]
  },
  {
   "cell_type": "markdown",
   "metadata": {},
   "source": [
    "### Check images"
   ]
  },
  {
   "cell_type": "markdown",
   "metadata": {},
   "source": [
    "Simple visualization to check whether images are loaded correctly"
   ]
  },
  {
   "cell_type": "code",
   "execution_count": 25,
   "metadata": {},
   "outputs": [
    {
     "data": {
      "image/png": "[encoded data removed]",
      "text/plain": [
       "<Figure size 1500x1500 with 16 Axes>"
      ]
     },
     "metadata": {},
     "output_type": "display_data"
    }
   ],
   "source": [
    "fig = plt.figure(figsize=(15, 15))\n",
    "rows, cols = 4, 4\n",
    "for i in range(1, rows * cols + 1):\n",
    "    random_idx = random.randint(0, len(train_dataset)-1)\n",
    "    img = train_dataset[random_idx][0]\n",
    "    label = label_dictionary[train_dataset[random_idx][1]]\n",
    "    fig.add_subplot(rows, cols, i)\n",
    "    img = img.permute(1,2,0)\n",
    "    plt.imshow(img, cmap = \"binary\", interpolation = \"nearest\")\n",
    "    plt.title(label)\n",
    "    plt.axis(False);"
   ]
  },
  {
   "cell_type": "markdown",
   "metadata": {},
   "source": [
    "## Hyperparameter search"
   ]
  },
  {
   "cell_type": "markdown",
   "metadata": {},
   "source": [
    "Cross validator selection"
   ]
  },
  {
   "cell_type": "code",
   "execution_count": 29,
   "metadata": {},
   "outputs": [],
   "source": [
    "splits = 3\n",
    "reps = 2\n",
    "rskf = StratifiedKFold(n_splits=splits)"
   ]
  },
  {
   "cell_type": "markdown",
   "metadata": {},
   "source": [
    "Criterion selection"
   ]
  },
  {
   "cell_type": "code",
   "execution_count": 30,
   "metadata": {},
   "outputs": [],
   "source": [
    "loss = nn.CrossEntropyLoss()"
   ]
  },
  {
   "cell_type": "markdown",
   "metadata": {},
   "source": [
    "Early stopper init"
   ]
  },
  {
   "cell_type": "code",
   "execution_count": 31,
   "metadata": {},
   "outputs": [],
   "source": [
    "pruner = EarlyStopper(patience=3, min_delta=0.2)"
   ]
  },
  {
   "cell_type": "markdown",
   "metadata": {},
   "source": [
    "### ArtCoppo b&w"
   ]
  },
  {
   "cell_type": "markdown",
   "metadata": {},
   "source": [
    "#### Hyperparameter search"
   ]
  },
  {
   "cell_type": "code",
   "execution_count": null,
   "metadata": {},
   "outputs": [
    {
     "name": "stderr",
     "output_type": "stream",
     "text": [
      "[I 2024-12-11 12:23:29,779] A new study created in memory with name: no-name-e471e052-a0e2-4bd0-a6cd-c044b7b600e7\n",
      "/home/iridhexx/miniconda3/envs/ai/lib/python3.12/site-packages/optuna/distributions.py:524: UserWarning: Choices for a categorical distribution should be a tuple of None, bool, int, float and str for persistent storage but contains [4, 8, 16, 32] which is of type list.\n",
      "  warnings.warn(message)\n",
      "/home/iridhexx/miniconda3/envs/ai/lib/python3.12/site-packages/optuna/distributions.py:524: UserWarning: Choices for a categorical distribution should be a tuple of None, bool, int, float and str for persistent storage but contains [6, 16, 32, 64] which is of type list.\n",
      "  warnings.warn(message)\n",
      "/home/iridhexx/miniconda3/envs/ai/lib/python3.12/site-packages/optuna/distributions.py:524: UserWarning: Choices for a categorical distribution should be a tuple of None, bool, int, float and str for persistent storage but contains [3, 9, 15, 45] which is of type list.\n",
      "  warnings.warn(message)\n",
      "Folds: 0fold [00:00, ?fold/s]"
     ]
    },
    {
     "name": "stdout",
     "output_type": "stream",
     "text": [
      "Started fold: 1, epoch: 1\n"
     ]
    },
    {
     "name": "stderr",
     "output_type": "stream",
     "text": []
    },
    {
     "name": "stdout",
     "output_type": "stream",
     "text": [
      "Started fold: 1, epoch: 2\n"
     ]
    },
    {
     "name": "stderr",
     "output_type": "stream",
     "text": []
    },
    {
     "name": "stdout",
     "output_type": "stream",
     "text": [
      "Started fold: 1, epoch: 3\n"
     ]
    },
    {
     "name": "stderr",
     "output_type": "stream",
     "text": []
    },
    {
     "name": "stdout",
     "output_type": "stream",
     "text": [
      "Started fold: 1, epoch: 4\n"
     ]
    },
    {
     "name": "stderr",
     "output_type": "stream",
     "text": []
    },
    {
     "name": "stdout",
     "output_type": "stream",
     "text": [
      "Started fold: 1, epoch: 5\n"
     ]
    },
    {
     "name": "stderr",
     "output_type": "stream",
     "text": []
    },
    {
     "name": "stdout",
     "output_type": "stream",
     "text": [
      "Started fold: 1, epoch: 6\n"
     ]
    },
    {
     "name": "stderr",
     "output_type": "stream",
     "text": [
      "Folds: 1fold [03:48, 228.17s/fold]"
     ]
    },
    {
     "name": "stdout",
     "output_type": "stream",
     "text": [
      "Started fold: 2, epoch: 1\n"
     ]
    },
    {
     "name": "stderr",
     "output_type": "stream",
     "text": []
    },
    {
     "name": "stdout",
     "output_type": "stream",
     "text": [
      "Started fold: 2, epoch: 2\n"
     ]
    },
    {
     "name": "stderr",
     "output_type": "stream",
     "text": []
    },
    {
     "name": "stdout",
     "output_type": "stream",
     "text": [
      "Started fold: 2, epoch: 3\n"
     ]
    },
    {
     "name": "stderr",
     "output_type": "stream",
     "text": []
    },
    {
     "name": "stdout",
     "output_type": "stream",
     "text": [
      "Started fold: 2, epoch: 4\n"
     ]
    },
    {
     "name": "stderr",
     "output_type": "stream",
     "text": []
    },
    {
     "name": "stdout",
     "output_type": "stream",
     "text": [
      "Started fold: 2, epoch: 5\n"
     ]
    },
    {
     "name": "stderr",
     "output_type": "stream",
     "text": []
    },
    {
     "name": "stdout",
     "output_type": "stream",
     "text": [
      "Started fold: 2, epoch: 6\n"
     ]
    },
    {
     "name": "stderr",
     "output_type": "stream",
     "text": [
      "Folds: 2fold [07:34, 227.11s/fold]"
     ]
    },
    {
     "name": "stdout",
     "output_type": "stream",
     "text": [
      "Started fold: 3, epoch: 1\n"
     ]
    },
    {
     "name": "stderr",
     "output_type": "stream",
     "text": []
    },
    {
     "name": "stdout",
     "output_type": "stream",
     "text": [
      "Started fold: 3, epoch: 2\n"
     ]
    },
    {
     "name": "stderr",
     "output_type": "stream",
     "text": []
    },
    {
     "name": "stdout",
     "output_type": "stream",
     "text": [
      "Started fold: 3, epoch: 3\n"
     ]
    },
    {
     "name": "stderr",
     "output_type": "stream",
     "text": []
    },
    {
     "name": "stdout",
     "output_type": "stream",
     "text": [
      "Started fold: 3, epoch: 4\n"
     ]
    },
    {
     "name": "stderr",
     "output_type": "stream",
     "text": []
    },
    {
     "name": "stdout",
     "output_type": "stream",
     "text": [
      "Started fold: 3, epoch: 5\n"
     ]
    },
    {
     "name": "stderr",
     "output_type": "stream",
     "text": []
    },
    {
     "name": "stdout",
     "output_type": "stream",
     "text": [
      "Started fold: 3, epoch: 6\n"
     ]
    },
    {
     "name": "stderr",
     "output_type": "stream",
     "text": [
      "Folds: 3fold [11:26, 228.86s/fold]\n",
      "[I 2024-12-11 12:34:56,381] Trial 0 finished with value: 2.0196156894459443 and parameters: {'lr': 0.00014104520964516523, 'weight_decay': 0.005578082088926672, 'hidden_channels': [6, 16, 32, 64]}. Best is trial 0 with value: 2.0196156894459443.\n",
      "/home/iridhexx/miniconda3/envs/ai/lib/python3.12/site-packages/optuna/distributions.py:524: UserWarning: Choices for a categorical distribution should be a tuple of None, bool, int, float and str for persistent storage but contains [4, 8, 16, 32] which is of type list.\n",
      "  warnings.warn(message)\n",
      "/home/iridhexx/miniconda3/envs/ai/lib/python3.12/site-packages/optuna/distributions.py:524: UserWarning: Choices for a categorical distribution should be a tuple of None, bool, int, float and str for persistent storage but contains [6, 16, 32, 64] which is of type list.\n",
      "  warnings.warn(message)\n",
      "/home/iridhexx/miniconda3/envs/ai/lib/python3.12/site-packages/optuna/distributions.py:524: UserWarning: Choices for a categorical distribution should be a tuple of None, bool, int, float and str for persistent storage but contains [3, 9, 15, 45] which is of type list.\n",
      "  warnings.warn(message)\n",
      "Folds: 0fold [00:00, ?fold/s]"
     ]
    },
    {
     "name": "stdout",
     "output_type": "stream",
     "text": [
      "Started fold: 1, epoch: 1\n"
     ]
    },
    {
     "name": "stderr",
     "output_type": "stream",
     "text": []
    },
    {
     "name": "stdout",
     "output_type": "stream",
     "text": [
      "Started fold: 1, epoch: 2\n"
     ]
    },
    {
     "name": "stderr",
     "output_type": "stream",
     "text": []
    },
    {
     "name": "stdout",
     "output_type": "stream",
     "text": [
      "Started fold: 1, epoch: 3\n"
     ]
    },
    {
     "name": "stderr",
     "output_type": "stream",
     "text": []
    },
    {
     "name": "stdout",
     "output_type": "stream",
     "text": [
      "Started fold: 1, epoch: 4\n"
     ]
    },
    {
     "name": "stderr",
     "output_type": "stream",
     "text": []
    },
    {
     "name": "stdout",
     "output_type": "stream",
     "text": [
      "Started fold: 1, epoch: 5\n"
     ]
    },
    {
     "name": "stderr",
     "output_type": "stream",
     "text": []
    },
    {
     "name": "stdout",
     "output_type": "stream",
     "text": [
      "Started fold: 1, epoch: 6\n"
     ]
    },
    {
     "name": "stderr",
     "output_type": "stream",
     "text": [
      "Folds: 1fold [03:46, 226.69s/fold]"
     ]
    },
    {
     "name": "stdout",
     "output_type": "stream",
     "text": [
      "Started fold: 2, epoch: 1\n"
     ]
    },
    {
     "name": "stderr",
     "output_type": "stream",
     "text": []
    },
    {
     "name": "stdout",
     "output_type": "stream",
     "text": [
      "Started fold: 2, epoch: 2\n"
     ]
    },
    {
     "name": "stderr",
     "output_type": "stream",
     "text": []
    },
    {
     "name": "stdout",
     "output_type": "stream",
     "text": [
      "Started fold: 2, epoch: 3\n"
     ]
    },
    {
     "name": "stderr",
     "output_type": "stream",
     "text": []
    },
    {
     "name": "stdout",
     "output_type": "stream",
     "text": [
      "Started fold: 2, epoch: 4\n"
     ]
    },
    {
     "name": "stderr",
     "output_type": "stream",
     "text": []
    },
    {
     "name": "stdout",
     "output_type": "stream",
     "text": [
      "Started fold: 2, epoch: 5\n"
     ]
    },
    {
     "name": "stderr",
     "output_type": "stream",
     "text": []
    },
    {
     "name": "stdout",
     "output_type": "stream",
     "text": [
      "Started fold: 2, epoch: 6\n"
     ]
    },
    {
     "name": "stderr",
     "output_type": "stream",
     "text": [
      "Folds: 2fold [07:34, 227.26s/fold]"
     ]
    },
    {
     "name": "stdout",
     "output_type": "stream",
     "text": [
      "Started fold: 3, epoch: 1\n"
     ]
    },
    {
     "name": "stderr",
     "output_type": "stream",
     "text": []
    },
    {
     "name": "stdout",
     "output_type": "stream",
     "text": [
      "Started fold: 3, epoch: 2\n"
     ]
    },
    {
     "name": "stderr",
     "output_type": "stream",
     "text": []
    },
    {
     "name": "stdout",
     "output_type": "stream",
     "text": [
      "Started fold: 3, epoch: 3\n"
     ]
    },
    {
     "name": "stderr",
     "output_type": "stream",
     "text": []
    },
    {
     "name": "stdout",
     "output_type": "stream",
     "text": [
      "Started fold: 3, epoch: 4\n"
     ]
    },
    {
     "name": "stderr",
     "output_type": "stream",
     "text": []
    },
    {
     "name": "stdout",
     "output_type": "stream",
     "text": [
      "Started fold: 3, epoch: 5\n"
     ]
    },
    {
     "name": "stderr",
     "output_type": "stream",
     "text": []
    },
    {
     "name": "stdout",
     "output_type": "stream",
     "text": [
      "Started fold: 3, epoch: 6\n"
     ]
    },
    {
     "name": "stderr",
     "output_type": "stream",
     "text": [
      "Folds: 3fold [11:21, 227.29s/fold]\n",
      "[I 2024-12-11 12:46:18,271] Trial 1 finished with value: 2.133126113461513 and parameters: {'lr': 0.0003349864270350356, 'weight_decay': 0.013564432130361787, 'hidden_channels': [3, 9, 15, 45]}. Best is trial 0 with value: 2.0196156894459443.\n",
      "/home/iridhexx/miniconda3/envs/ai/lib/python3.12/site-packages/optuna/distributions.py:524: UserWarning: Choices for a categorical distribution should be a tuple of None, bool, int, float and str for persistent storage but contains [4, 8, 16, 32] which is of type list.\n",
      "  warnings.warn(message)\n",
      "/home/iridhexx/miniconda3/envs/ai/lib/python3.12/site-packages/optuna/distributions.py:524: UserWarning: Choices for a categorical distribution should be a tuple of None, bool, int, float and str for persistent storage but contains [6, 16, 32, 64] which is of type list.\n",
      "  warnings.warn(message)\n",
      "/home/iridhexx/miniconda3/envs/ai/lib/python3.12/site-packages/optuna/distributions.py:524: UserWarning: Choices for a categorical distribution should be a tuple of None, bool, int, float and str for persistent storage but contains [3, 9, 15, 45] which is of type list.\n",
      "  warnings.warn(message)\n",
      "Folds: 0fold [00:00, ?fold/s]"
     ]
    },
    {
     "name": "stdout",
     "output_type": "stream",
     "text": [
      "Started fold: 1, epoch: 1\n"
     ]
    },
    {
     "name": "stderr",
     "output_type": "stream",
     "text": []
    },
    {
     "name": "stdout",
     "output_type": "stream",
     "text": [
      "Started fold: 1, epoch: 2\n"
     ]
    },
    {
     "name": "stderr",
     "output_type": "stream",
     "text": []
    },
    {
     "name": "stdout",
     "output_type": "stream",
     "text": [
      "Started fold: 1, epoch: 3\n"
     ]
    },
    {
     "name": "stderr",
     "output_type": "stream",
     "text": []
    },
    {
     "name": "stdout",
     "output_type": "stream",
     "text": [
      "Started fold: 1, epoch: 4\n"
     ]
    },
    {
     "name": "stderr",
     "output_type": "stream",
     "text": []
    },
    {
     "name": "stdout",
     "output_type": "stream",
     "text": [
      "Started fold: 1, epoch: 5\n"
     ]
    },
    {
     "name": "stderr",
     "output_type": "stream",
     "text": []
    },
    {
     "name": "stdout",
     "output_type": "stream",
     "text": [
      "Started fold: 1, epoch: 6\n"
     ]
    },
    {
     "name": "stderr",
     "output_type": "stream",
     "text": [
      "Folds: 1fold [03:46, 226.42s/fold]"
     ]
    },
    {
     "name": "stdout",
     "output_type": "stream",
     "text": [
      "Started fold: 2, epoch: 1\n"
     ]
    },
    {
     "name": "stderr",
     "output_type": "stream",
     "text": []
    },
    {
     "name": "stdout",
     "output_type": "stream",
     "text": [
      "Started fold: 2, epoch: 2\n"
     ]
    },
    {
     "name": "stderr",
     "output_type": "stream",
     "text": []
    },
    {
     "name": "stdout",
     "output_type": "stream",
     "text": [
      "Started fold: 2, epoch: 3\n"
     ]
    },
    {
     "name": "stderr",
     "output_type": "stream",
     "text": []
    },
    {
     "name": "stdout",
     "output_type": "stream",
     "text": [
      "Started fold: 2, epoch: 4\n"
     ]
    },
    {
     "name": "stderr",
     "output_type": "stream",
     "text": []
    },
    {
     "name": "stdout",
     "output_type": "stream",
     "text": [
      "Started fold: 2, epoch: 5\n"
     ]
    },
    {
     "name": "stderr",
     "output_type": "stream",
     "text": []
    },
    {
     "name": "stdout",
     "output_type": "stream",
     "text": [
      "Started fold: 2, epoch: 6\n"
     ]
    },
    {
     "name": "stderr",
     "output_type": "stream",
     "text": [
      "Folds: 2fold [07:34, 227.39s/fold]"
     ]
    },
    {
     "name": "stdout",
     "output_type": "stream",
     "text": [
      "Started fold: 3, epoch: 1\n"
     ]
    },
    {
     "name": "stderr",
     "output_type": "stream",
     "text": []
    },
    {
     "name": "stdout",
     "output_type": "stream",
     "text": [
      "Started fold: 3, epoch: 2\n"
     ]
    },
    {
     "name": "stderr",
     "output_type": "stream",
     "text": []
    },
    {
     "name": "stdout",
     "output_type": "stream",
     "text": [
      "Started fold: 3, epoch: 3\n"
     ]
    },
    {
     "name": "stderr",
     "output_type": "stream",
     "text": []
    },
    {
     "name": "stdout",
     "output_type": "stream",
     "text": [
      "Started fold: 3, epoch: 4\n"
     ]
    },
    {
     "name": "stderr",
     "output_type": "stream",
     "text": []
    },
    {
     "name": "stdout",
     "output_type": "stream",
     "text": [
      "Started fold: 3, epoch: 5\n"
     ]
    },
    {
     "name": "stderr",
     "output_type": "stream",
     "text": []
    },
    {
     "name": "stdout",
     "output_type": "stream",
     "text": [
      "Started fold: 3, epoch: 6\n"
     ]
    },
    {
     "name": "stderr",
     "output_type": "stream",
     "text": [
      "Folds: 3fold [11:23, 227.88s/fold]\n",
      "[I 2024-12-11 12:57:41,928] Trial 2 finished with value: 2.1107075120888505 and parameters: {'lr': 2.667982090829151e-05, 'weight_decay': 0.004372527860928561, 'hidden_channels': [3, 9, 15, 45]}. Best is trial 0 with value: 2.0196156894459443.\n",
      "/home/iridhexx/miniconda3/envs/ai/lib/python3.12/site-packages/optuna/distributions.py:524: UserWarning: Choices for a categorical distribution should be a tuple of None, bool, int, float and str for persistent storage but contains [4, 8, 16, 32] which is of type list.\n",
      "  warnings.warn(message)\n",
      "/home/iridhexx/miniconda3/envs/ai/lib/python3.12/site-packages/optuna/distributions.py:524: UserWarning: Choices for a categorical distribution should be a tuple of None, bool, int, float and str for persistent storage but contains [6, 16, 32, 64] which is of type list.\n",
      "  warnings.warn(message)\n",
      "/home/iridhexx/miniconda3/envs/ai/lib/python3.12/site-packages/optuna/distributions.py:524: UserWarning: Choices for a categorical distribution should be a tuple of None, bool, int, float and str for persistent storage but contains [3, 9, 15, 45] which is of type list.\n",
      "  warnings.warn(message)\n",
      "Folds: 0fold [00:00, ?fold/s]"
     ]
    },
    {
     "name": "stdout",
     "output_type": "stream",
     "text": [
      "Started fold: 1, epoch: 1\n"
     ]
    },
    {
     "name": "stderr",
     "output_type": "stream",
     "text": []
    },
    {
     "name": "stdout",
     "output_type": "stream",
     "text": [
      "Started fold: 1, epoch: 2\n"
     ]
    },
    {
     "name": "stderr",
     "output_type": "stream",
     "text": []
    },
    {
     "name": "stdout",
     "output_type": "stream",
     "text": [
      "Started fold: 1, epoch: 3\n"
     ]
    },
    {
     "name": "stderr",
     "output_type": "stream",
     "text": []
    },
    {
     "name": "stdout",
     "output_type": "stream",
     "text": [
      "Started fold: 1, epoch: 4\n"
     ]
    },
    {
     "name": "stderr",
     "output_type": "stream",
     "text": []
    },
    {
     "name": "stdout",
     "output_type": "stream",
     "text": [
      "Started fold: 1, epoch: 5\n"
     ]
    },
    {
     "name": "stderr",
     "output_type": "stream",
     "text": []
    },
    {
     "name": "stdout",
     "output_type": "stream",
     "text": [
      "Started fold: 1, epoch: 6\n"
     ]
    },
    {
     "name": "stderr",
     "output_type": "stream",
     "text": [
      "Folds: 1fold [03:47, 227.39s/fold]"
     ]
    },
    {
     "name": "stdout",
     "output_type": "stream",
     "text": [
      "Started fold: 2, epoch: 1\n"
     ]
    },
    {
     "name": "stderr",
     "output_type": "stream",
     "text": []
    },
    {
     "name": "stdout",
     "output_type": "stream",
     "text": [
      "Started fold: 2, epoch: 2\n"
     ]
    },
    {
     "name": "stderr",
     "output_type": "stream",
     "text": []
    },
    {
     "name": "stdout",
     "output_type": "stream",
     "text": [
      "Started fold: 2, epoch: 3\n"
     ]
    },
    {
     "name": "stderr",
     "output_type": "stream",
     "text": []
    },
    {
     "name": "stdout",
     "output_type": "stream",
     "text": [
      "Started fold: 2, epoch: 4\n"
     ]
    },
    {
     "name": "stderr",
     "output_type": "stream",
     "text": []
    },
    {
     "name": "stdout",
     "output_type": "stream",
     "text": [
      "Started fold: 2, epoch: 5\n"
     ]
    },
    {
     "name": "stderr",
     "output_type": "stream",
     "text": []
    },
    {
     "name": "stdout",
     "output_type": "stream",
     "text": [
      "Started fold: 2, epoch: 6\n"
     ]
    },
    {
     "name": "stderr",
     "output_type": "stream",
     "text": [
      "Folds: 2fold [07:35, 227.55s/fold]"
     ]
    },
    {
     "name": "stdout",
     "output_type": "stream",
     "text": [
      "Started fold: 3, epoch: 1\n"
     ]
    },
    {
     "name": "stderr",
     "output_type": "stream",
     "text": []
    },
    {
     "name": "stdout",
     "output_type": "stream",
     "text": [
      "Started fold: 3, epoch: 2\n"
     ]
    },
    {
     "name": "stderr",
     "output_type": "stream",
     "text": []
    },
    {
     "name": "stdout",
     "output_type": "stream",
     "text": [
      "Started fold: 3, epoch: 3\n"
     ]
    },
    {
     "name": "stderr",
     "output_type": "stream",
     "text": []
    },
    {
     "name": "stdout",
     "output_type": "stream",
     "text": [
      "Started fold: 3, epoch: 4\n"
     ]
    },
    {
     "name": "stderr",
     "output_type": "stream",
     "text": []
    },
    {
     "name": "stdout",
     "output_type": "stream",
     "text": [
      "Started fold: 3, epoch: 5\n"
     ]
    },
    {
     "name": "stderr",
     "output_type": "stream",
     "text": []
    },
    {
     "name": "stdout",
     "output_type": "stream",
     "text": [
      "Started fold: 3, epoch: 6\n"
     ]
    },
    {
     "name": "stderr",
     "output_type": "stream",
     "text": [
      "Folds: 3fold [11:21, 227.31s/fold]\n",
      "[I 2024-12-11 13:09:03,878] Trial 3 finished with value: 2.2049122988008985 and parameters: {'lr': 0.016588965726977146, 'weight_decay': 0.00896516897531489, 'hidden_channels': [3, 9, 15, 45]}. Best is trial 0 with value: 2.0196156894459443.\n",
      "/home/iridhexx/miniconda3/envs/ai/lib/python3.12/site-packages/optuna/distributions.py:524: UserWarning: Choices for a categorical distribution should be a tuple of None, bool, int, float and str for persistent storage but contains [4, 8, 16, 32] which is of type list.\n",
      "  warnings.warn(message)\n",
      "/home/iridhexx/miniconda3/envs/ai/lib/python3.12/site-packages/optuna/distributions.py:524: UserWarning: Choices for a categorical distribution should be a tuple of None, bool, int, float and str for persistent storage but contains [6, 16, 32, 64] which is of type list.\n",
      "  warnings.warn(message)\n",
      "/home/iridhexx/miniconda3/envs/ai/lib/python3.12/site-packages/optuna/distributions.py:524: UserWarning: Choices for a categorical distribution should be a tuple of None, bool, int, float and str for persistent storage but contains [3, 9, 15, 45] which is of type list.\n",
      "  warnings.warn(message)\n",
      "Folds: 0fold [00:00, ?fold/s]"
     ]
    },
    {
     "name": "stdout",
     "output_type": "stream",
     "text": [
      "Started fold: 1, epoch: 1\n"
     ]
    },
    {
     "name": "stderr",
     "output_type": "stream",
     "text": []
    },
    {
     "name": "stdout",
     "output_type": "stream",
     "text": [
      "Started fold: 1, epoch: 2\n"
     ]
    },
    {
     "name": "stderr",
     "output_type": "stream",
     "text": []
    },
    {
     "name": "stdout",
     "output_type": "stream",
     "text": [
      "Started fold: 1, epoch: 3\n"
     ]
    },
    {
     "name": "stderr",
     "output_type": "stream",
     "text": []
    },
    {
     "name": "stdout",
     "output_type": "stream",
     "text": [
      "Started fold: 1, epoch: 4\n"
     ]
    },
    {
     "name": "stderr",
     "output_type": "stream",
     "text": []
    },
    {
     "name": "stdout",
     "output_type": "stream",
     "text": [
      "Started fold: 1, epoch: 5\n"
     ]
    },
    {
     "name": "stderr",
     "output_type": "stream",
     "text": []
    },
    {
     "name": "stdout",
     "output_type": "stream",
     "text": [
      "Started fold: 1, epoch: 6\n"
     ]
    },
    {
     "name": "stderr",
     "output_type": "stream",
     "text": []
    },
    {
     "name": "stdout",
     "output_type": "stream",
     "text": [
      "Started fold: 1, epoch: 7\n"
     ]
    },
    {
     "name": "stderr",
     "output_type": "stream",
     "text": []
    },
    {
     "name": "stdout",
     "output_type": "stream",
     "text": [
      "Started fold: 1, epoch: 8\n"
     ]
    },
    {
     "name": "stderr",
     "output_type": "stream",
     "text": [
      "Folds: 1fold [05:09, 309.58s/fold]"
     ]
    },
    {
     "name": "stdout",
     "output_type": "stream",
     "text": [
      "Started fold: 2, epoch: 1\n"
     ]
    },
    {
     "name": "stderr",
     "output_type": "stream",
     "text": []
    },
    {
     "name": "stdout",
     "output_type": "stream",
     "text": [
      "Started fold: 2, epoch: 2\n"
     ]
    },
    {
     "name": "stderr",
     "output_type": "stream",
     "text": []
    },
    {
     "name": "stdout",
     "output_type": "stream",
     "text": [
      "Started fold: 2, epoch: 3\n"
     ]
    },
    {
     "name": "stderr",
     "output_type": "stream",
     "text": []
    },
    {
     "name": "stdout",
     "output_type": "stream",
     "text": [
      "Started fold: 2, epoch: 4\n"
     ]
    },
    {
     "name": "stderr",
     "output_type": "stream",
     "text": []
    },
    {
     "name": "stdout",
     "output_type": "stream",
     "text": [
      "Started fold: 2, epoch: 5\n"
     ]
    },
    {
     "name": "stderr",
     "output_type": "stream",
     "text": []
    },
    {
     "name": "stdout",
     "output_type": "stream",
     "text": [
      "Started fold: 2, epoch: 6\n"
     ]
    },
    {
     "name": "stderr",
     "output_type": "stream",
     "text": [
      "Folds: 2fold [09:03, 265.17s/fold]"
     ]
    },
    {
     "name": "stdout",
     "output_type": "stream",
     "text": [
      "Started fold: 3, epoch: 1\n"
     ]
    },
    {
     "name": "stderr",
     "output_type": "stream",
     "text": []
    },
    {
     "name": "stdout",
     "output_type": "stream",
     "text": [
      "Started fold: 3, epoch: 2\n"
     ]
    },
    {
     "name": "stderr",
     "output_type": "stream",
     "text": []
    },
    {
     "name": "stdout",
     "output_type": "stream",
     "text": [
      "Started fold: 3, epoch: 3\n"
     ]
    },
    {
     "name": "stderr",
     "output_type": "stream",
     "text": []
    },
    {
     "name": "stdout",
     "output_type": "stream",
     "text": [
      "Started fold: 3, epoch: 4\n"
     ]
    },
    {
     "name": "stderr",
     "output_type": "stream",
     "text": []
    },
    {
     "name": "stdout",
     "output_type": "stream",
     "text": [
      "Started fold: 3, epoch: 5\n"
     ]
    },
    {
     "name": "stderr",
     "output_type": "stream",
     "text": []
    },
    {
     "name": "stdout",
     "output_type": "stream",
     "text": [
      "Started fold: 3, epoch: 6\n"
     ]
    },
    {
     "name": "stderr",
     "output_type": "stream",
     "text": [
      "Folds: 3fold [12:58, 259.44s/fold]\n",
      "[I 2024-12-11 13:22:02,196] Trial 4 finished with value: 1.7917444500268676 and parameters: {'lr': 0.0010244030498645631, 'weight_decay': 0.0017315042173475506, 'hidden_channels': [6, 16, 32, 64]}. Best is trial 4 with value: 1.7917444500268676.\n",
      "/home/iridhexx/miniconda3/envs/ai/lib/python3.12/site-packages/optuna/distributions.py:524: UserWarning: Choices for a categorical distribution should be a tuple of None, bool, int, float and str for persistent storage but contains [4, 8, 16, 32] which is of type list.\n",
      "  warnings.warn(message)\n",
      "/home/iridhexx/miniconda3/envs/ai/lib/python3.12/site-packages/optuna/distributions.py:524: UserWarning: Choices for a categorical distribution should be a tuple of None, bool, int, float and str for persistent storage but contains [6, 16, 32, 64] which is of type list.\n",
      "  warnings.warn(message)\n",
      "/home/iridhexx/miniconda3/envs/ai/lib/python3.12/site-packages/optuna/distributions.py:524: UserWarning: Choices for a categorical distribution should be a tuple of None, bool, int, float and str for persistent storage but contains [3, 9, 15, 45] which is of type list.\n",
      "  warnings.warn(message)\n",
      "Folds: 0fold [00:00, ?fold/s]"
     ]
    },
    {
     "name": "stdout",
     "output_type": "stream",
     "text": [
      "Started fold: 1, epoch: 1\n"
     ]
    },
    {
     "name": "stderr",
     "output_type": "stream",
     "text": []
    },
    {
     "name": "stdout",
     "output_type": "stream",
     "text": [
      "Started fold: 1, epoch: 2\n"
     ]
    },
    {
     "name": "stderr",
     "output_type": "stream",
     "text": []
    },
    {
     "name": "stdout",
     "output_type": "stream",
     "text": [
      "Started fold: 1, epoch: 3\n"
     ]
    },
    {
     "name": "stderr",
     "output_type": "stream",
     "text": []
    },
    {
     "name": "stdout",
     "output_type": "stream",
     "text": [
      "Started fold: 1, epoch: 4\n"
     ]
    },
    {
     "name": "stderr",
     "output_type": "stream",
     "text": []
    },
    {
     "name": "stdout",
     "output_type": "stream",
     "text": [
      "Started fold: 1, epoch: 5\n"
     ]
    },
    {
     "name": "stderr",
     "output_type": "stream",
     "text": []
    },
    {
     "name": "stdout",
     "output_type": "stream",
     "text": [
      "Started fold: 1, epoch: 6\n"
     ]
    },
    {
     "name": "stderr",
     "output_type": "stream",
     "text": [
      "Folds: 1fold [03:48, 228.98s/fold]"
     ]
    },
    {
     "name": "stdout",
     "output_type": "stream",
     "text": [
      "Started fold: 2, epoch: 1\n"
     ]
    },
    {
     "name": "stderr",
     "output_type": "stream",
     "text": []
    },
    {
     "name": "stdout",
     "output_type": "stream",
     "text": [
      "Started fold: 2, epoch: 2\n"
     ]
    },
    {
     "name": "stderr",
     "output_type": "stream",
     "text": []
    },
    {
     "name": "stdout",
     "output_type": "stream",
     "text": [
      "Started fold: 2, epoch: 3\n"
     ]
    },
    {
     "name": "stderr",
     "output_type": "stream",
     "text": []
    },
    {
     "name": "stdout",
     "output_type": "stream",
     "text": [
      "Started fold: 2, epoch: 4\n"
     ]
    },
    {
     "name": "stderr",
     "output_type": "stream",
     "text": []
    },
    {
     "name": "stdout",
     "output_type": "stream",
     "text": [
      "Started fold: 2, epoch: 5\n"
     ]
    },
    {
     "name": "stderr",
     "output_type": "stream",
     "text": []
    },
    {
     "name": "stdout",
     "output_type": "stream",
     "text": [
      "Started fold: 2, epoch: 6\n"
     ]
    },
    {
     "name": "stderr",
     "output_type": "stream",
     "text": [
      "Folds: 2fold [07:38, 229.20s/fold]"
     ]
    },
    {
     "name": "stdout",
     "output_type": "stream",
     "text": [
      "Started fold: 3, epoch: 1\n"
     ]
    },
    {
     "name": "stderr",
     "output_type": "stream",
     "text": []
    },
    {
     "name": "stdout",
     "output_type": "stream",
     "text": [
      "Started fold: 3, epoch: 2\n"
     ]
    },
    {
     "name": "stderr",
     "output_type": "stream",
     "text": []
    },
    {
     "name": "stdout",
     "output_type": "stream",
     "text": [
      "Started fold: 3, epoch: 3\n"
     ]
    },
    {
     "name": "stderr",
     "output_type": "stream",
     "text": []
    },
    {
     "name": "stdout",
     "output_type": "stream",
     "text": [
      "Started fold: 3, epoch: 4\n"
     ]
    },
    {
     "name": "stderr",
     "output_type": "stream",
     "text": []
    },
    {
     "name": "stdout",
     "output_type": "stream",
     "text": [
      "Started fold: 3, epoch: 5\n"
     ]
    },
    {
     "name": "stderr",
     "output_type": "stream",
     "text": []
    },
    {
     "name": "stdout",
     "output_type": "stream",
     "text": [
      "Started fold: 3, epoch: 6\n"
     ]
    },
    {
     "name": "stderr",
     "output_type": "stream",
     "text": [
      "Folds: 3fold [11:28, 229.38s/fold]\n",
      "[I 2024-12-11 13:33:30,359] Trial 5 finished with value: 2.09757056797252 and parameters: {'lr': 0.0001439526689685844, 'weight_decay': 0.009046603081610722, 'hidden_channels': [3, 9, 15, 45]}. Best is trial 4 with value: 1.7917444500268676.\n",
      "/home/iridhexx/miniconda3/envs/ai/lib/python3.12/site-packages/optuna/distributions.py:524: UserWarning: Choices for a categorical distribution should be a tuple of None, bool, int, float and str for persistent storage but contains [4, 8, 16, 32] which is of type list.\n",
      "  warnings.warn(message)\n",
      "/home/iridhexx/miniconda3/envs/ai/lib/python3.12/site-packages/optuna/distributions.py:524: UserWarning: Choices for a categorical distribution should be a tuple of None, bool, int, float and str for persistent storage but contains [6, 16, 32, 64] which is of type list.\n",
      "  warnings.warn(message)\n",
      "/home/iridhexx/miniconda3/envs/ai/lib/python3.12/site-packages/optuna/distributions.py:524: UserWarning: Choices for a categorical distribution should be a tuple of None, bool, int, float and str for persistent storage but contains [3, 9, 15, 45] which is of type list.\n",
      "  warnings.warn(message)\n",
      "Folds: 0fold [00:00, ?fold/s]"
     ]
    },
    {
     "name": "stdout",
     "output_type": "stream",
     "text": [
      "Started fold: 1, epoch: 1\n"
     ]
    },
    {
     "name": "stderr",
     "output_type": "stream",
     "text": []
    },
    {
     "name": "stdout",
     "output_type": "stream",
     "text": [
      "Started fold: 1, epoch: 2\n"
     ]
    },
    {
     "name": "stderr",
     "output_type": "stream",
     "text": []
    },
    {
     "name": "stdout",
     "output_type": "stream",
     "text": [
      "Started fold: 1, epoch: 3\n"
     ]
    },
    {
     "name": "stderr",
     "output_type": "stream",
     "text": []
    },
    {
     "name": "stdout",
     "output_type": "stream",
     "text": [
      "Started fold: 1, epoch: 4\n"
     ]
    },
    {
     "name": "stderr",
     "output_type": "stream",
     "text": []
    },
    {
     "name": "stdout",
     "output_type": "stream",
     "text": [
      "Started fold: 1, epoch: 5\n"
     ]
    },
    {
     "name": "stderr",
     "output_type": "stream",
     "text": []
    },
    {
     "name": "stdout",
     "output_type": "stream",
     "text": [
      "Started fold: 1, epoch: 6\n"
     ]
    },
    {
     "name": "stderr",
     "output_type": "stream",
     "text": [
      "Folds: 1fold [03:55, 235.20s/fold]"
     ]
    },
    {
     "name": "stdout",
     "output_type": "stream",
     "text": [
      "Started fold: 2, epoch: 1\n"
     ]
    },
    {
     "name": "stderr",
     "output_type": "stream",
     "text": []
    },
    {
     "name": "stdout",
     "output_type": "stream",
     "text": [
      "Started fold: 2, epoch: 2\n"
     ]
    },
    {
     "name": "stderr",
     "output_type": "stream",
     "text": []
    },
    {
     "name": "stdout",
     "output_type": "stream",
     "text": [
      "Started fold: 2, epoch: 3\n"
     ]
    },
    {
     "name": "stderr",
     "output_type": "stream",
     "text": []
    },
    {
     "name": "stdout",
     "output_type": "stream",
     "text": [
      "Started fold: 2, epoch: 4\n"
     ]
    },
    {
     "name": "stderr",
     "output_type": "stream",
     "text": []
    },
    {
     "name": "stdout",
     "output_type": "stream",
     "text": [
      "Started fold: 2, epoch: 5\n"
     ]
    },
    {
     "name": "stderr",
     "output_type": "stream",
     "text": []
    },
    {
     "name": "stdout",
     "output_type": "stream",
     "text": [
      "Started fold: 2, epoch: 6\n"
     ]
    },
    {
     "name": "stderr",
     "output_type": "stream",
     "text": [
      "Folds: 2fold [07:50, 235.09s/fold]"
     ]
    },
    {
     "name": "stdout",
     "output_type": "stream",
     "text": [
      "Started fold: 3, epoch: 1\n"
     ]
    },
    {
     "name": "stderr",
     "output_type": "stream",
     "text": []
    },
    {
     "name": "stdout",
     "output_type": "stream",
     "text": [
      "Started fold: 3, epoch: 2\n"
     ]
    },
    {
     "name": "stderr",
     "output_type": "stream",
     "text": []
    },
    {
     "name": "stdout",
     "output_type": "stream",
     "text": [
      "Started fold: 3, epoch: 3\n"
     ]
    },
    {
     "name": "stderr",
     "output_type": "stream",
     "text": []
    },
    {
     "name": "stdout",
     "output_type": "stream",
     "text": [
      "Started fold: 3, epoch: 4\n"
     ]
    },
    {
     "name": "stderr",
     "output_type": "stream",
     "text": []
    },
    {
     "name": "stdout",
     "output_type": "stream",
     "text": [
      "Started fold: 3, epoch: 5\n"
     ]
    },
    {
     "name": "stderr",
     "output_type": "stream",
     "text": []
    },
    {
     "name": "stdout",
     "output_type": "stream",
     "text": [
      "Started fold: 3, epoch: 6\n"
     ]
    },
    {
     "name": "stderr",
     "output_type": "stream",
     "text": [
      "Folds: 3fold [11:43, 234.52s/fold]\n",
      "[I 2024-12-11 13:45:13,929] Trial 6 finished with value: 2.168408588334626 and parameters: {'lr': 1.533331291720239e-05, 'weight_decay': 0.05498467725731655, 'hidden_channels': [6, 16, 32, 64]}. Best is trial 4 with value: 1.7917444500268676.\n",
      "/home/iridhexx/miniconda3/envs/ai/lib/python3.12/site-packages/optuna/distributions.py:524: UserWarning: Choices for a categorical distribution should be a tuple of None, bool, int, float and str for persistent storage but contains [4, 8, 16, 32] which is of type list.\n",
      "  warnings.warn(message)\n",
      "/home/iridhexx/miniconda3/envs/ai/lib/python3.12/site-packages/optuna/distributions.py:524: UserWarning: Choices for a categorical distribution should be a tuple of None, bool, int, float and str for persistent storage but contains [6, 16, 32, 64] which is of type list.\n",
      "  warnings.warn(message)\n",
      "/home/iridhexx/miniconda3/envs/ai/lib/python3.12/site-packages/optuna/distributions.py:524: UserWarning: Choices for a categorical distribution should be a tuple of None, bool, int, float and str for persistent storage but contains [3, 9, 15, 45] which is of type list.\n",
      "  warnings.warn(message)\n",
      "Folds: 0fold [00:00, ?fold/s]"
     ]
    },
    {
     "name": "stdout",
     "output_type": "stream",
     "text": [
      "Started fold: 1, epoch: 1\n"
     ]
    },
    {
     "name": "stderr",
     "output_type": "stream",
     "text": []
    },
    {
     "name": "stdout",
     "output_type": "stream",
     "text": [
      "Started fold: 1, epoch: 2\n"
     ]
    },
    {
     "name": "stderr",
     "output_type": "stream",
     "text": []
    },
    {
     "name": "stdout",
     "output_type": "stream",
     "text": [
      "Started fold: 1, epoch: 3\n"
     ]
    },
    {
     "name": "stderr",
     "output_type": "stream",
     "text": []
    },
    {
     "name": "stdout",
     "output_type": "stream",
     "text": [
      "Started fold: 1, epoch: 4\n"
     ]
    },
    {
     "name": "stderr",
     "output_type": "stream",
     "text": []
    },
    {
     "name": "stdout",
     "output_type": "stream",
     "text": [
      "Started fold: 1, epoch: 5\n"
     ]
    },
    {
     "name": "stderr",
     "output_type": "stream",
     "text": []
    },
    {
     "name": "stdout",
     "output_type": "stream",
     "text": [
      "Started fold: 1, epoch: 6\n"
     ]
    },
    {
     "name": "stderr",
     "output_type": "stream",
     "text": [
      "Folds: 1fold [03:51, 231.66s/fold]"
     ]
    },
    {
     "name": "stdout",
     "output_type": "stream",
     "text": [
      "Started fold: 2, epoch: 1\n"
     ]
    },
    {
     "name": "stderr",
     "output_type": "stream",
     "text": []
    },
    {
     "name": "stdout",
     "output_type": "stream",
     "text": [
      "Started fold: 2, epoch: 2\n"
     ]
    },
    {
     "name": "stderr",
     "output_type": "stream",
     "text": []
    },
    {
     "name": "stdout",
     "output_type": "stream",
     "text": [
      "Started fold: 2, epoch: 3\n"
     ]
    },
    {
     "name": "stderr",
     "output_type": "stream",
     "text": []
    },
    {
     "name": "stdout",
     "output_type": "stream",
     "text": [
      "Started fold: 2, epoch: 4\n"
     ]
    },
    {
     "name": "stderr",
     "output_type": "stream",
     "text": []
    },
    {
     "name": "stdout",
     "output_type": "stream",
     "text": [
      "Started fold: 2, epoch: 5\n"
     ]
    },
    {
     "name": "stderr",
     "output_type": "stream",
     "text": []
    },
    {
     "name": "stdout",
     "output_type": "stream",
     "text": [
      "Started fold: 2, epoch: 6\n"
     ]
    },
    {
     "name": "stderr",
     "output_type": "stream",
     "text": [
      "Folds: 2fold [07:43, 232.05s/fold]"
     ]
    },
    {
     "name": "stdout",
     "output_type": "stream",
     "text": [
      "Started fold: 3, epoch: 1\n"
     ]
    },
    {
     "name": "stderr",
     "output_type": "stream",
     "text": []
    },
    {
     "name": "stdout",
     "output_type": "stream",
     "text": [
      "Started fold: 3, epoch: 2\n"
     ]
    },
    {
     "name": "stderr",
     "output_type": "stream",
     "text": []
    },
    {
     "name": "stdout",
     "output_type": "stream",
     "text": [
      "Started fold: 3, epoch: 3\n"
     ]
    },
    {
     "name": "stderr",
     "output_type": "stream",
     "text": []
    },
    {
     "name": "stdout",
     "output_type": "stream",
     "text": [
      "Started fold: 3, epoch: 4\n"
     ]
    },
    {
     "name": "stderr",
     "output_type": "stream",
     "text": []
    },
    {
     "name": "stdout",
     "output_type": "stream",
     "text": [
      "Started fold: 3, epoch: 5\n"
     ]
    },
    {
     "name": "stderr",
     "output_type": "stream",
     "text": []
    },
    {
     "name": "stdout",
     "output_type": "stream",
     "text": [
      "Started fold: 3, epoch: 6\n"
     ]
    },
    {
     "name": "stderr",
     "output_type": "stream",
     "text": [
      "Folds: 3fold [11:37, 232.40s/fold]\n",
      "[I 2024-12-11 13:56:51,143] Trial 7 finished with value: 2.181503971417745 and parameters: {'lr': 0.018913674449784982, 'weight_decay': 0.00020217656948807913, 'hidden_channels': [6, 16, 32, 64]}. Best is trial 4 with value: 1.7917444500268676.\n",
      "/home/iridhexx/miniconda3/envs/ai/lib/python3.12/site-packages/optuna/distributions.py:524: UserWarning: Choices for a categorical distribution should be a tuple of None, bool, int, float and str for persistent storage but contains [4, 8, 16, 32] which is of type list.\n",
      "  warnings.warn(message)\n",
      "/home/iridhexx/miniconda3/envs/ai/lib/python3.12/site-packages/optuna/distributions.py:524: UserWarning: Choices for a categorical distribution should be a tuple of None, bool, int, float and str for persistent storage but contains [6, 16, 32, 64] which is of type list.\n",
      "  warnings.warn(message)\n",
      "/home/iridhexx/miniconda3/envs/ai/lib/python3.12/site-packages/optuna/distributions.py:524: UserWarning: Choices for a categorical distribution should be a tuple of None, bool, int, float and str for persistent storage but contains [3, 9, 15, 45] which is of type list.\n",
      "  warnings.warn(message)\n",
      "Folds: 0fold [00:00, ?fold/s]"
     ]
    },
    {
     "name": "stdout",
     "output_type": "stream",
     "text": [
      "Started fold: 1, epoch: 1\n"
     ]
    },
    {
     "name": "stderr",
     "output_type": "stream",
     "text": []
    },
    {
     "name": "stdout",
     "output_type": "stream",
     "text": [
      "Started fold: 1, epoch: 2\n"
     ]
    }
   ],
   "source": [
    "# Create Optuna study and optimize with additional parameters\n",
    "study_coppo = optuna.create_study(direction=\"minimize\")\n",
    "study_coppo.optimize(partial(objective_coppo64, dataset=train_dataset, model_class=ArtCoppo64, criterion=loss, cross_validator=rskf, device=device, early_stopper=pruner), n_trials=10)"
   ]
  },
  {
   "cell_type": "markdown",
   "metadata": {},
   "source": [
    "#### Hyperparameter report"
   ]
  },
  {
   "cell_type": "code",
   "execution_count": 32,
   "metadata": {},
   "outputs": [
    {
     "ename": "NameError",
     "evalue": "name 'study_coppo' is not defined",
     "output_type": "error",
     "traceback": [
      "\u001b[0;31m---------------------------------------------------------------------------\u001b[0m",
      "\u001b[0;31mNameError\u001b[0m                                 Traceback (most recent call last)",
      "Cell \u001b[0;32mIn[32], line 1\u001b[0m\n\u001b[0;32m----> 1\u001b[0m \u001b[38;5;28mprint\u001b[39m(\u001b[38;5;124m\"\u001b[39m\u001b[38;5;124mBest hyperparameters:\u001b[39m\u001b[38;5;124m\"\u001b[39m, \u001b[43mstudy_coppo\u001b[49m\u001b[38;5;241m.\u001b[39mbest_params)\n\u001b[1;32m      2\u001b[0m \u001b[38;5;28mprint\u001b[39m(\u001b[38;5;124m\"\u001b[39m\u001b[38;5;124mBest validation loss:\u001b[39m\u001b[38;5;124m\"\u001b[39m, study_coppo\u001b[38;5;241m.\u001b[39mbest_value)\n",
      "\u001b[0;31mNameError\u001b[0m: name 'study_coppo' is not defined"
     ]
    }
   ],
   "source": [
    "print(\"Best hyperparameters:\", study_coppo.best_params)\n",
    "print(\"Best validation loss:\", study_coppo.best_value)"
   ]
  },
  {
   "cell_type": "code",
   "execution_count": null,
   "metadata": {},
   "outputs": [],
   "source": [
    "best_trial_coppo = study_coppo.best_trial\n",
    "hyperparameter_report(best_trial_coppo)"
   ]
  },
  {
   "cell_type": "markdown",
   "metadata": {},
   "source": [
    "### VGG19"
   ]
  },
  {
   "cell_type": "markdown",
   "metadata": {},
   "source": [
    "Send model to selected device and modify the classifier to fit classification purposes"
   ]
  },
  {
   "cell_type": "code",
   "execution_count": null,
   "metadata": {},
   "outputs": [],
   "source": [
    "vgg19.classifier[6] = nn.Linear(vgg19.classifier[6].in_features, len(dataset.classes), bias=True)\n",
    "vgg19 = vgg19.to(device)"
   ]
  },
  {
   "cell_type": "markdown",
   "metadata": {},
   "source": [
    "Start search"
   ]
  },
  {
   "cell_type": "code",
   "execution_count": null,
   "metadata": {},
   "outputs": [],
   "source": [
    "# Create Optuna study and optimize with additional parameters\n",
    "study_vgg19 = optuna.create_study(direction=\"minimize\")\n",
    "study_vgg19.optimize(lambda trial: objective_vgg(trial, train_dataset, vgg19, loss, rskf, device, pruner), n_trials=10)"
   ]
  },
  {
   "cell_type": "markdown",
   "metadata": {},
   "source": [
    "#### Hyperparameter search report"
   ]
  },
  {
   "cell_type": "markdown",
   "metadata": {},
   "source": [
    "Best parameters and loss"
   ]
  },
  {
   "cell_type": "code",
   "execution_count": null,
   "metadata": {},
   "outputs": [],
   "source": [
    "print(\"Best hyperparameters:\", study.best_params)\n",
    "print(\"Best validation loss:\", study.best_value)"
   ]
  },
  {
   "cell_type": "markdown",
   "metadata": {},
   "source": [
    "Plotting"
   ]
  },
  {
   "cell_type": "code",
   "execution_count": null,
   "metadata": {},
   "outputs": [],
   "source": [
    "best_trial_vgg19 = study.vgg19.best_trial\n",
    "hyperparameter_report(best_trial_vgg19)"
   ]
  },
  {
   "cell_type": "markdown",
   "metadata": {},
   "source": [
    "### VGG19 finetuning"
   ]
  },
  {
   "cell_type": "markdown",
   "metadata": {},
   "source": [
    "Freeze feature gradients, we only train the classifier\n",
    "\n",
    "The last step of the classifier need to be modified to accomodate the number of target classes"
   ]
  },
  {
   "cell_type": "code",
   "execution_count": null,
   "metadata": {},
   "outputs": [],
   "source": [
    "vgg19 = torchvision.models.vgg19(pretrained=True)\n",
    "for param in vgg19.features:\n",
    "    param.requires_grad = False\n",
    "vgg19.classifier[6] = nn.Linear(vgg19.classifier[6].in_features, len(dataset.classes), bias=True)"
   ]
  },
  {
   "cell_type": "markdown",
   "metadata": {},
   "source": [
    "## Model training"
   ]
  },
  {
   "cell_type": "markdown",
   "metadata": {},
   "source": [
    "### ArtCoppo64"
   ]
  },
  {
   "cell_type": "code",
   "execution_count": 33,
   "metadata": {},
   "outputs": [],
   "source": [
    "best_pars = {'lr': 0.0010244030498645631, 'weight_decay': 0.0017315042173475506, 'hidden_channels': [6, 16, 32, 64]}"
   ]
  },
  {
   "cell_type": "code",
   "execution_count": 34,
   "metadata": {},
   "outputs": [],
   "source": [
    "log_coppo64_str = LOGGING_FOLDER+'log_coppo64.txt'"
   ]
  },
  {
   "cell_type": "code",
   "execution_count": null,
   "metadata": {},
   "outputs": [
    {
     "data": {
      "application/vnd.jupyter.widget-view+json": {
       "model_id": "6d2333c6dd2d4998b813909c9971506b",
       "version_major": 2,
       "version_minor": 0
      },
      "text/plain": [
       "Epochs:   0%|          | 0/100 [00:00<?, ?epoch/s]"
      ]
     },
     "metadata": {},
     "output_type": "display_data"
    }
   ],
   "source": [
    "train_loop(train_dataset, ArtCoppo64, best_pars, loss, device, pruner, log_coppo64_str)"
   ]
  },
  {
   "cell_type": "code",
   "execution_count": null,
   "metadata": {},
   "outputs": [],
   "source": [
    "plot_metrics(log_vgg19_str)"
   ]
  },
  {
   "cell_type": "markdown",
   "metadata": {},
   "source": [
    "### vgg19"
   ]
  },
  {
   "cell_type": "code",
   "execution_count": null,
   "metadata": {},
   "outputs": [],
   "source": [
    "log_vgg19_str = LOGGING_FOLDER+'log_vgg19.txt'"
   ]
  },
  {
   "cell_type": "code",
   "execution_count": null,
   "metadata": {},
   "outputs": [],
   "source": [
    "train_loop(train_dataset, vgg19, study.vgg19.best_params, loss, device, 50, pruner, log_vgg19_str)"
   ]
  },
  {
   "cell_type": "code",
   "execution_count": null,
   "metadata": {},
   "outputs": [],
   "source": [
    "plot_metrics(log_vgg19_str)"
   ]
  }
 ],
 "metadata": {
  "kernelspec": {
   "display_name": "ai",
   "language": "python",
   "name": "python3"
  },
  "language_info": {
   "codemirror_mode": {
    "name": "ipython",
    "version": 3
   },
   "file_extension": ".py",
   "mimetype": "text/x-python",
   "name": "python",
   "nbconvert_exporter": "python",
   "pygments_lexer": "ipython3",
   "version": "3.12.2"
  }
 },
 "nbformat": 4,
 "nbformat_minor": 2
}
